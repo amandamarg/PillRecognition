{
 "cells": [
  {
   "cell_type": "code",
   "execution_count": null,
   "id": "4899a11c",
   "metadata": {},
   "outputs": [],
   "source": [
    "from roboflow import Roboflow\n",
    "from sklearn.model_selection import train_test_split\n",
    "import os\n",
    "import yaml\n",
    "\n",
    "dataset_path = os.getcwd() + \"/datasets/taiwan_pill_for_label\"\n",
    "\n",
    "#download from roboflow\n",
    "rf = Roboflow(api_key=\"zCMD7YHOUliH3cklpoLi\")\n",
    "project = rf.workspace(\"doccampill\").project(\"taiwan_pill_for_label\")\n",
    "version = project.version(35)\n",
    "dataset = version.download(\"yolov11\", location=dataset_path)\n",
    "\n",
    "\n",
    "#rename without added roboflow extension\n",
    "train_path_imgs = dataset_path + '/train/images/'\n",
    "train_path_labels = dataset_path + '/train/labels/'\n",
    "valid_path_imgs = dataset_path + '/valid/images/'\n",
    "valid_path_labels = dataset_path + '/valid/labels/'\n",
    "test_path_imgs = dataset_path + '/test/images/'\n",
    "test_path_labels = dataset_path + '/test/labels/'\n",
    "\n",
    "for file in os.listdir(train_path_imgs):\n",
    "    old_name = os.path.basename(file)\n",
    "    new_name = old_name.split('_')[0]\n",
    "    os.rename(train_path_imgs + old_name, train_path_imgs + new_name + '.jpg')\n",
    "    os.rename(train_path_labels + old_name.replace('.jpg', '.txt'), train_path_labels + new_name + '.txt')\n",
    "\n",
    "#make directories for test and valid\n",
    "os.makedirs(valid_path_imgs, exist_ok=True)\n",
    "os.makedirs(valid_path_labels, exist_ok=True)\n",
    "os.makedirs(test_path_imgs, exist_ok=True)\n",
    "os.makedirs(test_path_labels, exist_ok=True)\n",
    "\n",
    "#partition data into train/valid/test\n",
    "x = []\n",
    "y = []\n",
    "\n",
    "for file in os.listdir(train_path_labels):\n",
    "    label = []\n",
    "    with open(train_path_labels + file, 'r') as f:\n",
    "        for line in f:\n",
    "            label.append(line.split(' ')[0])\n",
    "    f.close()\n",
    "    if (len(set(label)) > 1):\n",
    "        print('Error: multiple classes in file')\n",
    "        print(file)\n",
    "        break\n",
    "    else:\n",
    "        x.append(file)\n",
    "        y.append(label[0])\n",
    "\n",
    "#split data (train data is stratified as to keep proportions similar to overall proportions)\n",
    "x_train, x_temp, y_train, y_temp = train_test_split(x,y,test_size=.2, random_state=42, stratify=y)\n",
    "x_val, x_test, y_val, y_test = train_test_split(x_temp, y_temp, test_size=.5, random_state=42)\n",
    "\n",
    "#move images and labels from valid partition into valid folder\n",
    "for file in x_val:\n",
    "    os.rename(train_path_labels + file, valid_path_labels + file)\n",
    "    os.rename(train_path_imgs + file.replace('.txt', '.jpg'), valid_path_imgs + file.replace('.txt', '.jpg'))\n",
    "\n",
    "#move images and labels from test into test folder\n",
    "for file in x_test:\n",
    "    os.rename(train_path_labels + file, test_path_labels + file)\n",
    "    os.rename(train_path_imgs + file.replace('.txt', '.jpg'), test_path_imgs + file.replace('.txt', '.jpg'))\n",
    "\n",
    "#edit yaml\n",
    "with open(dataset_path + '/data.yaml', 'r') as file:\n",
    "    data = {'path': dataset_path}\n",
    "    data.update(yaml.safe_load(file))\n",
    "file.close()\n",
    "\n",
    "data['names'] = {idx: val for idx, val in enumerate(data['names'])}\n",
    "data['train'] = 'train/images'\n",
    "data['val'] = 'valid/images'\n",
    "data['test'] = 'test/images'\n",
    "\n",
    "with open(dataset_path + '/data.yaml', 'w') as file:\n",
    "    yaml.safe_dump(data, file, sort_keys=False)\n",
    "file.close()"
   ]
  },
  {
   "cell_type": "code",
   "execution_count": null,
   "id": "0fc81050",
   "metadata": {},
   "outputs": [
    {
     "name": "stdout",
     "output_type": "stream",
     "text": [
      "Path to dataset files: /Users/Amanda/.cache/kagglehub/datasets/richardradli/ogyeiv2/versions/3\n"
     ]
    }
   ],
   "source": [
    "import kagglehub\n",
    "import yaml\n",
    "\n",
    "# Download latest version of ogyeiv2 dataset from kaggle\n",
    "dataset_path = kagglehub.dataset_download(\"richardradli/ogyeiv2\")\n",
    "print(\"Path to dataset files:\", dataset_path)\n",
    "\n",
    "#write a yaml file for dataset\n",
    "dataset_path = dataset_path + '/ogyeiv2/ogyeiv2'\n",
    "data = {'path': dataset_path, 'train': 'train/images', 'val': 'valid/images', 'test': 'test/images', 'names': {0: 'pill'}}\n",
    "\n",
    "with open(dataset_path + '/data.yaml', 'w') as file:\n",
    "    yaml.safe_dump(data, file, sort_keys=False)\n",
    "file.close()"
   ]
  },
  {
   "cell_type": "code",
   "execution_count": null,
   "id": "f45e8816",
   "metadata": {},
   "outputs": [],
   "source": [
    "import ultralytics\n",
    "\n",
    "#train on yolo11 segmantation on dataset\n",
    "model = ultralytics.YOLO('yolo11n-seg.pt')\n",
    "results = model.train(data=dataset_path + '/data.yaml', fraction=1, epochs=10, single_cls=True, plots=True)"
   ]
  }
 ],
 "metadata": {
  "kernelspec": {
   "display_name": "Python 3",
   "language": "python",
   "name": "python3"
  },
  "language_info": {
   "codemirror_mode": {
    "name": "ipython",
    "version": 3
   },
   "file_extension": ".py",
   "mimetype": "text/x-python",
   "name": "python",
   "nbconvert_exporter": "python",
   "pygments_lexer": "ipython3",
   "version": "3.11.12"
  }
 },
 "nbformat": 4,
 "nbformat_minor": 5
}
