{
 "cells": [
  {
   "cell_type": "code",
   "execution_count": 149,
   "id": "ba83dcb7",
   "metadata": {},
   "outputs": [
    {
     "name": "stdout",
     "output_type": "stream",
     "text": [
      "(45313, 4)\n"
     ]
    }
   ],
   "source": [
    "import pandas as pd\n",
    "import json\n",
    "\n",
    "all_labels = pd.read_csv(\"./datasets/ePillID_data/all_labels.csv\")\n",
    "with open('./drug/ndc/drug-ndc-0001-of-0001.json', 'r') as file:\n",
    "    data = json.loads(file.read())\n",
    "file.close()\n",
    "df = pd.DataFrame(data['results'])\n",
    "\n",
    "#filter out anything that isn't a tablet or capsule\n",
    "pills = df[df['dosage_form'].str.contains('TABLET') | df['dosage_form'].str.contains('CAPSULE')]\n",
    "\n",
    "#filter out anything that isn't for humans\n",
    "pills = pills[pills['product_type'].str.contains('HUMAN')]\n",
    "\n",
    "#pillbox retired on date Jan. 29 2021 as per https://www.nlm.nih.gov/pubs/techbull/ja20/ja20_pillbox_discontinue.html\n",
    "pillbox_retirement = 20210129\n",
    "x=pills[\"product_ndc\"].str.split(\"-\", expand=True).astype(int).rename(columns={0:\"label_code_id\", 1: \"prod_code_id\"}).join(pills[\"marketing_start_date\"])\n",
    "merged = pd.merge(x, all_labels.get([\"label_code_id\", \"prod_code_id\"]), on=[\"label_code_id\", \"prod_code_id\"], how=\"outer\", indicator=True)\n",
    "ndc_not_in_dataset = merged[merged['_merge'] == \"left_only\"].drop_duplicates()\n",
    "print(ndc_not_in_dataset.shape)\n"
   ]
  },
  {
   "cell_type": "code",
   "execution_count": null,
   "id": "0b5991ca",
   "metadata": {},
   "outputs": [],
   "source": [
    "from download import downloadZip\n",
    "\n",
    "downloadZip(\"https://www.accessdata.fda.gov/cder/ndc_excluded.zip\", \"./excluded_drugs/\")"
   ]
  },
  {
   "cell_type": "code",
   "execution_count": null,
   "id": "317e9f16",
   "metadata": {},
   "outputs": [],
   "source": [
    "excluded = pd.read_table('/Users/Amanda/Desktop/PillRecognition/excluded_drugs/Products_excluded.xls', encoding='Windows-1252')\n",
    "excluded_ndcs = excluded[\"PRODUCTNDC\"]\n",
    "excluded_ndcs = excluded_ndcs[excluded_ndcs.str.contains('^(\\d+)-(\\d+)$', regex=True)].str.split(\"-\", expand=True).astype(int).rename(columns={0:\"label_code_id\", 1: \"prod_code_id\"})\n",
    "\n",
    "ex = pd.merge(merged[merged['_merge'] == \"right_only\"].drop_duplicates().get([\"label_code_id\", \"prod_code_id\"]), excluded_ndcs, on=[\"label_code_id\", \"prod_code_id\"], how=\"outer\", indicator=True)\n",
    "ex[ex[\"_merge\"] == \"left_only\"]"
   ]
  },
  {
   "cell_type": "code",
   "execution_count": null,
   "id": "92990c8c",
   "metadata": {},
   "outputs": [],
   "source": [
    "all_labels.get([\"label_code_id\", \"prod_code_id\"]).drop_duplicates()\n",
    "all_labels[\"label\"].drop_duplicates()"
   ]
  },
  {
   "cell_type": "code",
   "execution_count": null,
   "id": "354efae0",
   "metadata": {},
   "outputs": [],
   "source": [
    "merged[merged['_merge'] == \"left_only\"].drop_duplicates()"
   ]
  },
  {
   "cell_type": "code",
   "execution_count": null,
   "id": "2e3acd5d",
   "metadata": {},
   "outputs": [],
   "source": [
    "merged[merged['_merge'] == \"right_only\"].drop_duplicates()"
   ]
  },
  {
   "cell_type": "code",
   "execution_count": null,
   "id": "9cf057b4",
   "metadata": {},
   "outputs": [],
   "source": [
    "merged[merged['_merge'] == \"both\"].drop_duplicates()"
   ]
  },
  {
   "cell_type": "code",
   "execution_count": null,
   "id": "d487a357",
   "metadata": {},
   "outputs": [],
   "source": [
    "import pandas as pd\n",
    "import pathlib\n",
    "import re\n",
    "\n",
    "properties = pd.read_json('/Users/Amanda/Desktop/PillRecognition/parsedProperties.json')\n",
    "\n",
    "all_labels = pd.read_csv(\"./datasets/ePillID_data/all_labels.csv\")\n",
    "\n",
    "\n",
    "def checkNDCMatch(ndc1,ndc2):\n",
    "    ndc1Parts = list(map(int, ndc1.split('-')))\n",
    "    ndc2Parts = list(map(int, ndc2.split('-')))\n",
    "    return ndc1Parts == ndc2Parts\n",
    "\n",
    "ndcs = all_labels[\"pilltype_id\"].map(lambda x: x.split('_')[0])\n",
    "\n",
    "\n",
    "def zeroPadFront(str, desiredLength):\n",
    "    while len(str) < desiredLength:\n",
    "        str = '0' + str\n",
    "    return str\n",
    "\n",
    "def removePadding(str, desiredLength):\n",
    "    while len(str) > desiredLength:\n",
    "        if (str[0] == '0'):\n",
    "            str = str[1:]\n",
    "        else:\n",
    "            print('ERROR: desiredLength is too short')\n",
    "            return None\n",
    "    return str\n",
    "    \n",
    "class NDC:\n",
    "    def __init__(self, ndc):\n",
    "        ndc_parts = ndc.split('-')\n",
    "        \n",
    "        self.labeler = str(int(ndc_parts[0]))\n",
    "        self.productCode = str(int(ndc_parts[1]))\n",
    "        if (len(ndc_parts) < 3):\n",
    "            self.packageCode = None\n",
    "        else:\n",
    "            self.packageCode = str(int(ndc_parts[2]))\n",
    "\n",
    "    def getFormat(self, asString=False):\n",
    "        if self.packageCode:\n",
    "            format = (len(self.labeler), len(self.productCode), len(self.packageCode))\n",
    "        else:\n",
    "            format = (len(self.labeler), len(self.productCode))\n",
    "        if asString:\n",
    "            return '-'.join(map(str, format))\n",
    "        else:\n",
    "            return format\n",
    "        \n",
    "    def getNDCSegments(self):\n",
    "        if (self.packageCode):\n",
    "            return [self.labeler, self.productCode, self.packageCode]\n",
    "        else:\n",
    "            return [self.labeler, self.productCode]\n",
    "    \n",
    "    def getNDCString(self, format=None):\n",
    "        ndc_segments = self.getNDCSegments()\n",
    "        if format:\n",
    "            if isinstance(format, str):\n",
    "                format = list(map(int, format.split('-')))\n",
    "            elif isinstance(format, tuple):\n",
    "                format = list(format)\n",
    "            \n",
    "            if (len(format) > len(ndc_segments)):\n",
    "                format.pop()\n",
    "\n",
    "            for idx in range(len(format)):\n",
    "                if len(ndc_segments[idx]) < format[idx]:\n",
    "                    ndc_segments[idx] = zeroPadFront(ndc_segments[idx], format[idx])\n",
    "        return '-'.join(ndc_segments)\n",
    "    \n",
    "    \n",
    "\n",
    "ndcs = [NDC(row['pilltype_id'].split('_')[0]) if row['image_path'].split('/')[0] == 'fcn_mix_weight' else NDC(row['images'].split('_')[0]) for idx, row in all_labels.iterrows()]\n"
   ]
  },
  {
   "cell_type": "code",
   "execution_count": null,
   "id": "cfd1d35a",
   "metadata": {},
   "outputs": [],
   "source": [
    "ndc_strings = pd.Series(list(map(lambda x: x.getNDCString(), ndcs)))\n",
    "\n",
    "properties.index = properties.index.map(lambda x: NDC(x).getNDCString())"
   ]
  },
  {
   "cell_type": "code",
   "execution_count": null,
   "id": "b058f7f8",
   "metadata": {},
   "outputs": [],
   "source": [
    "import requests as r\n",
    "from bs4 import BeautifulSoup\n",
    "import json\n",
    "\n",
    "def makeCall(path, base='https://rxnav.nlm.nih.gov/REST/', query=''):\n",
    "    return json.loads(r.get(base + path + query).content)\n",
    "\n",
    "def getNDCProps(codes):\n",
    "    return codes.map(lambda x: makeCall('ndcproperties.json', query='?id=' + x))\n",
    "\n",
    "ndc_strings = pd.Series(list(map(lambda x: x.getNDCString(), ndcs)))\n",
    "\n",
    "\n",
    "props = getNDCProps(ndc_strings)\n",
    "# props.index = ndc_strings\n",
    "props.to_json('epillid_props.json')"
   ]
  },
  {
   "cell_type": "code",
   "execution_count": null,
   "id": "92a8e294",
   "metadata": {},
   "outputs": [],
   "source": [
    "with open('epillid_props.json', 'r') as file:\n",
    "    data = json.loads(file.read())\n",
    "file.close()\n",
    "props = pd.Series(data)\n",
    "props = pd.Series([x['ndcPropertyList']['ndcProperty'][0]['propertyConceptList']['propertyConcept'] if len(x) != 0  else None for x in props])\n",
    "makePropTuple = lambda x: (x['propName'], x['propValue'])\n",
    "props_parsed = pd.json_normalize(props.map(lambda x: dict(map(makePropTuple, x)), na_action='ignore'))\n",
    "props_parsed['ndc'] = ndc_strings\n",
    "props_parsed.to_json('epillid_props_parsed.json')\n"
   ]
  },
  {
   "cell_type": "code",
   "execution_count": 65,
   "id": "3db8c9fd",
   "metadata": {},
   "outputs": [
    {
     "data": {
      "application/vnd.microsoft.datawrangler.viewer.v0+json": {
       "columns": [
        {
         "name": "('COLOR', 'COLORTEXT', 'SHAPE', 'SHAPETEXT', 'SIZE', 'IMPRINT_CODE', 'ndc')",
         "rawType": "object",
         "type": "unknown"
        },
        {
         "name": "count",
         "rawType": "int64",
         "type": "integer"
        }
       ],
       "ref": "1aa63c26-7134-406d-8578-798aaf00db62",
       "rows": [
        [
         "('C48332', 'BROWN', 'C48348', 'circular', '12 mm', 'S;712', '62756-712-86')",
         "7"
        ],
        [
         "('C48325', 'WHITE(off-white to slightly greyish)', 'C48348', 'biconvex', '6 mm', '2858', '59762-2858-1')",
         "7"
        ],
        [
         "('C48333', 'BLUE', 'C48336', 'Modified Capsule Shaped, Biconvex', '11 mm', 'F;12', '65862-156-30')",
         "7"
        ],
        [
         "('C48332', 'BROWN(beige)', 'C48348', 'barrel shape', '9 mm', 'W;936', '64679-936-3')",
         "7"
        ],
        [
         "('C48325', 'white', 'C48345', 'elliptical', '15 mm', 'RX829', '63304-829-90')",
         "7"
        ],
        [
         "('C48332', 'BROWN', 'C48348', 'biconvex', '8 mm', 'G;208', '68462-208-1')",
         "7"
        ],
        [
         "('C48326', 'RED', 'C48348', 'ROUND', '10 mm', '200', '50419-488-58')",
         "7"
        ],
        [
         "('C48331', 'ORANGE(Peach)', 'C48336', 'Biconvex', '19 mm', '12;T', '65862-537-50')",
         "7"
        ],
        [
         "('C48328', 'PINK(pink)', 'C48348', 'biconvex', '9 mm', '894', '47335-894-81')",
         "7"
        ],
        [
         "('C48329;C48333', 'GREEN(green),BLUE(blue)', 'C48336', 'CAPSULE', '22 mm', '2010;S429;250;mg', '54092-189-81')",
         "7"
        ],
        [
         "('C48330', 'YELLOW(Light Yellow)', 'C48348', 'Round, Biconvex', '8 mm', '7;5', '68180-501-1')",
         "7"
        ],
        [
         "('C48325', 'white', 'C48345', 'oblong', '16 mm', 'PLIVA;334', '50111-334-1')",
         "7"
        ],
        [
         "('C48329', 'green', 'C48345', 'ovaloid', '12 mm', 'C;412', '63459-412-30')",
         "6"
        ],
        [
         "('C48333', 'blue', 'C48345', 'ovaloid', '13 mm', 'C;416', '63459-416-30')",
         "6"
        ],
        [
         "('C48326', 'red(light red)', 'C48348', 'biconvex', '6 mm', '10;Xa', '50458-580-30')",
         "6"
        ],
        [
         "('C48328', 'PINK', 'C48336', 'Modified Capsule Shaped, Biconvex', '10 mm', '56;C', '65862-155-30')",
         "6"
        ],
        [
         "('C48325', 'white', 'C48345', 'elliptical', '19 mm', 'RX830', '63304-830-90')",
         "6"
        ],
        [
         "('C48329', 'GREEN(light green to green)', 'C48348', 'round shaped', '9 mm', 'TAP;40', '64764-918-30')",
         "6"
        ],
        [
         "('C48327', 'purple(pale violet)', 'C48348', 'flat beveled edge, slightly mottled', '9 mm', 'T;45', '51672-4042-2')",
         "5"
        ],
        [
         "('C48325', 'white(white to off-white)', 'C48345', 'capsule shaped', '21 mm', 'ABRS;123', '62037-999-10')",
         "5"
        ],
        [
         "('C48325', 'white(white to off-white)', 'C48345', 'capsule shaped', '22 mm', 'CR;750', '16252-516-5')",
         "5"
        ],
        [
         "('C48329', 'GREEN(light green)', 'C48345', 'CAPSULE-SHAPED', '8 mm', 'G;4960;25;mg', '59762-4960-1')",
         "4"
        ],
        [
         "('C48325', 'white(white to off-white)', 'C48345', 'capsule-shaped', '13 mm', 'PROVIGIL;100;MG', '63459-101-30')",
         "4"
        ],
        [
         "('C48325', 'white(white to off-white)', 'C48345', 'capsule-shaped', '14 mm', '313', '66582-313-31')",
         "4"
        ],
        [
         "('C48325', 'white(white to off-white)', 'C48345', 'capsule-shaped', '11 mm', '312', '66582-312-31')",
         "3"
        ],
        [
         "('C48325', 'white', 'C48345', 'elliptical', '10 mm', 'RX12', '63304-827-90')",
         "3"
        ],
        [
         "('C48328', 'PINK(light pink)', 'C48336', 'biconvex', '9 mm', 'NAT;123', '51991-354')",
         "2"
        ],
        [
         "('C48328', 'PINK(light pink)', 'C48345', 'oblong', '12 mm', 'LOTENSINHCT;452', '64980-194')",
         "2"
        ],
        [
         "('C48330', 'YELLOW', 'C48336', 'capsule shaped, biconvex', '13 mm', 'L;U;D03', '68180-353')",
         "2"
        ],
        [
         "('C48330', 'YELLOW', 'C48336', 'capsule shaped, biconvex', '13 mm', 'L;U;D03', '63187-212')",
         "2"
        ],
        [
         "('C48330', 'YELLOW', 'C48336', 'Modified Capsule Shaped, Biconvex', '8 mm', 'C;55', '65862-154')",
         "2"
        ],
        [
         "('C48328', 'PINK', 'C48348', 'biconvex', '7 mm', '10;crestor', '43353-290')",
         "2"
        ],
        [
         "('C48329', 'green(light green)', 'C48348', 'circular, beveled edged', '8 mm', 'LU;G03', '55289-692')",
         "2"
        ],
        [
         "('C48329', 'green(light green mosaic appearance)', 'C48347', 'modified', '8 mm', 'AN896;2', '65162-896')",
         "2"
        ],
        [
         "('C48329', 'green(green)', 'C48345', 'OVAL', '12 mm', 'L;80', '63402-308')",
         "2"
        ],
        [
         "('C48329', 'green(Light Green)', 'C48345', 'modified, biconvex', '8 mm', '212;IG', '68084-180')",
         "2"
        ],
        [
         "('C48329', 'green(GREEN)', 'C48345', 'CAPSULE', '10 mm', 'ZC;07', '60687-161')",
         "2"
        ],
        [
         "('C48329', 'green( GREEN )', 'C48345', 'OVAL', '10 mm', 'dp;88', '60793-853')",
         "2"
        ],
        [
         "('C48328', 'PINK', 'C48348', 'biconvex', '9 mm', '20;crestor', '43353-289')",
         "2"
        ],
        [
         "('C48328', 'PINK( Dark Pink )', 'C48348', 'Biconvex, Beveled Edge', '8 mm', 'E;17', '65862-118')",
         "2"
        ],
        [
         "('C48329', 'green', 'C48345', 'Oblong, normal convex', '19 mm', 'T500', '60429-314')",
         "2"
        ],
        [
         "('C48329', 'GREEN(mossy green)', 'C48345', 'capsule shaped', '16 mm', 'A;A;A', '16110-502')",
         "2"
        ],
        [
         "('C48328', 'PINK( Light peach )', 'C48348', 'ROUND', '8 mm', '107', '57664-107')",
         "2"
        ],
        [
         "('C48329', 'GREEN(light green to green)', 'C48351', 'teardrop shaped', '14 mm', 'TAP;80', '55154-5159')",
         "2"
        ],
        [
         "('C48328', 'PINK( Light pink )', 'C48348', 'ROUND', '10 mm', '109', '57664-109')",
         "2"
        ],
        [
         "('C48330', 'YELLOW', 'C48336', 'shaped', '11 mm', 'APO;32;12;5', '60505-3759')",
         "2"
        ],
        [
         "('C48330', 'YELLOW', 'C48345', 'Beveled Edge, Biconvex', '17 mm', 'E;49', '16714-225')",
         "2"
        ],
        [
         "('C48330', 'YELLOW', 'C48345', 'Biconvex', '18 mm', 'E;11', '16714-355')",
         "2"
        ],
        [
         "('C48328', 'PINK', 'C48348', 'biconvex', '11 mm', 'G;200', '68462-110')",
         "2"
        ],
        [
         "('C48328', 'PINK', 'C48348', 'Biconvex', '7 mm', 'I;31', '57237-170')",
         "2"
        ]
       ],
       "shape": {
        "columns": 1,
        "rows": 394
       }
      },
      "text/plain": [
       "COLOR   COLORTEXT                             SHAPE   SHAPETEXT                          SIZE   IMPRINT_CODE  ndc         \n",
       "C48332  BROWN                                 C48348  circular                           12 mm  S;712         62756-712-86    7\n",
       "C48325  WHITE(off-white to slightly greyish)  C48348  biconvex                           6 mm   2858          59762-2858-1    7\n",
       "C48333  BLUE                                  C48336  Modified Capsule Shaped, Biconvex  11 mm  F;12          65862-156-30    7\n",
       "C48332  BROWN(beige)                          C48348  barrel shape                       9 mm   W;936         64679-936-3     7\n",
       "C48325  white                                 C48345  elliptical                         15 mm  RX829         63304-829-90    7\n",
       "                                                                                                                             ..\n",
       "        white(White to off white)             C48348  round, biconvex                    13 mm  121           67877-294       2\n",
       "        white(White to off White)             C48348  Biconvex                           9 mm   20            50436-170       2\n",
       "        white(WHITE)                          C48348  biconvex, circular                 6 mm   N004          63739-486       2\n",
       "                                                      Round                              10 mm  M2A357344     57896-101       2\n",
       "C48334  turquoise( TURQUOISE )                C48345  OVAL                               10 mm  dp;175        60793-859       2\n",
       "Name: count, Length: 394, dtype: int64"
      ]
     },
     "execution_count": 65,
     "metadata": {},
     "output_type": "execute_result"
    }
   ],
   "source": [
    "props_parsed.get(['COLOR', 'COLORTEXT', 'SHAPE', 'SHAPETEXT', 'SIZE', 'IMPRINT_CODE', 'ndc']).value_counts()"
   ]
  },
  {
   "cell_type": "code",
   "execution_count": 71,
   "id": "2ea5b2d4",
   "metadata": {},
   "outputs": [
    {
     "data": {
      "application/vnd.microsoft.datawrangler.viewer.v0+json": {
       "columns": [
        {
         "name": "index",
         "rawType": "object",
         "type": "unknown"
        },
        {
         "name": "count",
         "rawType": "int64",
         "type": "integer"
        }
       ],
       "ref": "daf019b4-4e76-4b47-802c-d052b94d0dac",
       "rows": [
        [
         "('white',)",
         "368"
        ],
        [
         "('WHITE',)",
         "345"
        ],
        [
         "('BROWN',)",
         "101"
        ],
        [
         "('PINK',)",
         "99"
        ],
        [
         "('YELLOW',)",
         "92"
        ],
        [
         "('white(white to off-white)',)",
         "83"
        ],
        [
         "('yellow',)",
         "79"
        ],
        [
         "('BLUE',)",
         "69"
        ],
        [
         "('orange',)",
         "66"
        ],
        [
         "('WHITE(white to off-white)',)",
         "54"
        ],
        [
         "('pink',)",
         "51"
        ],
        [
         "('blue',)",
         "48"
        ],
        [
         "('RED',)",
         "35"
        ],
        [
         "('WHITE(White to Off-white)',)",
         "34"
        ],
        [
         "('white(white)',)",
         "34"
        ],
        [
         "('ORANGE',)",
         "33"
        ],
        [
         "('green',)",
         "28"
        ],
        [
         "('white(white to off white)',)",
         "26"
        ],
        [
         "('GREEN',)",
         "20"
        ],
        [
         "('WHITE(white to off white)',)",
         "20"
        ],
        [
         "('white(WHITE)',)",
         "20"
        ],
        [
         "('white(White to off-white)',)",
         "19"
        ],
        [
         "('WHITE(WHITE TO OFF-WHITE)',)",
         "18"
        ],
        [
         "('brown',)",
         "16"
        ],
        [
         "('YELLOW(Yellow)',)",
         "14"
        ],
        [
         "('WHITE(white)',)",
         "12"
        ],
        [
         "('WHITE(White to off white)',)",
         "12"
        ],
        [
         "('BLUE(Light Blue)',)",
         "12"
        ],
        [
         "('BLUE,WHITE',)",
         "11"
        ],
        [
         "('BROWN(beige)',)",
         "11"
        ],
        [
         "('GREEN(green)',)",
         "11"
        ],
        [
         "('PURPLE',)",
         "11"
        ],
        [
         "('WHITE(White to off-white)',)",
         "10"
        ],
        [
         "('orange(peach)',)",
         "10"
        ],
        [
         "('GREEN(light green to green)',)",
         "10"
        ],
        [
         "('gray',)",
         "10"
        ],
        [
         "('PINK(Light Pink)',)",
         "10"
        ],
        [
         "('YELLOW(light yellow)',)",
         "9"
        ],
        [
         "('WHITE( White to Off-white )',)",
         "9"
        ],
        [
         "('ORANGE(Peach)',)",
         "9"
        ],
        [
         "('YELLOW(Light Yellow)',)",
         "9"
        ],
        [
         "('red(dark red)',)",
         "8"
        ],
        [
         "('WHITE(WHITE TO OFF WHITE)',)",
         "8"
        ],
        [
         "('ORANGE(peach)',)",
         "8"
        ],
        [
         "('green(light green)',)",
         "8"
        ],
        [
         "('PINK(light pink)',)",
         "8"
        ],
        [
         "('yellow(YELLOW)',)",
         "8"
        ],
        [
         "('pink(pink)',)",
         "8"
        ],
        [
         "('PINK(opaque),BROWN(reddish brown)',)",
         "8"
        ],
        [
         "('orange(orange-peach)',)",
         "7"
        ]
       ],
       "shape": {
        "columns": 1,
        "rows": 386
       }
      },
      "text/plain": [
       "COLORTEXT                                    \n",
       "white                                            368\n",
       "WHITE                                            345\n",
       "BROWN                                            101\n",
       "PINK                                              99\n",
       "YELLOW                                            92\n",
       "                                                ... \n",
       "WHITE(White)                                       2\n",
       "WHITE(White to yellow tinged)                      2\n",
       "WHITE(White Opaque)                                2\n",
       "WHITE(White Opaque Cap and White Opaque Body)      2\n",
       "yellow(yellowish brown)                            2\n",
       "Name: count, Length: 386, dtype: int64"
      ]
     },
     "execution_count": 71,
     "metadata": {},
     "output_type": "execute_result"
    }
   ],
   "source": [
    "props_parsed.get(['COLORTEXT']).value_counts()"
   ]
  },
  {
   "cell_type": "code",
   "execution_count": 70,
   "id": "f6961be3",
   "metadata": {},
   "outputs": [
    {
     "data": {
      "application/vnd.microsoft.datawrangler.viewer.v0+json": {
       "columns": [
        {
         "name": "index",
         "rawType": "object",
         "type": "unknown"
        },
        {
         "name": "count",
         "rawType": "int64",
         "type": "integer"
        }
       ],
       "ref": "f91ee8c5-8e62-451d-ac59-cbcfcc24fc98",
       "rows": [
        [
         "('ROUND',)",
         "99"
        ],
        [
         "('Biconvex',)",
         "83"
        ],
        [
         "('biconvex',)",
         "73"
        ],
        [
         "('CAPSULE',)",
         "55"
        ],
        [
         "('capsule-shaped',)",
         "51"
        ],
        [
         "('OVAL',)",
         "42"
        ],
        [
         "('capsule shaped',)",
         "30"
        ],
        [
         "('elliptical',)",
         "22"
        ],
        [
         "('Modified Capsule Shaped, Biconvex',)",
         "21"
        ],
        [
         "('capsule',)",
         "18"
        ],
        [
         "('CAPSULE-SHAPED',)",
         "18"
        ],
        [
         "('circular',)",
         "15"
        ],
        [
         "('oblong',)",
         "15"
        ],
        [
         "('round',)",
         "12"
        ],
        [
         "('ovaloid',)",
         "12"
        ],
        [
         "('barrel shape',)",
         "11"
        ],
        [
         "('Round',)",
         "10"
        ],
        [
         "('Round, Biconvex',)",
         "9"
        ],
        [
         "('modified, biconvex',)",
         "8"
        ],
        [
         "('round shaped',)",
         "8"
        ],
        [
         "('capsule shaped, biconvex',)",
         "8"
        ],
        [
         "('Ovaloid, Beveled Edge, Biconvex',)",
         "8"
        ],
        [
         "('flat beveled edge, slightly mottled',)",
         "7"
        ],
        [
         "('oval-shaped',)",
         "6"
        ],
        [
         "('triangular biconvex',)",
         "6"
        ],
        [
         "('Oval',)",
         "6"
        ],
        [
         "('Capsule-shaped',)",
         "6"
        ],
        [
         "('Capsule Shaped',)",
         "6"
        ],
        [
         "('Capsule',)",
         "6"
        ],
        [
         "('bi-convex',)",
         "6"
        ],
        [
         "('flat beveled',)",
         "6"
        ],
        [
         "('Soft Gelatin Capsules',)",
         "4"
        ],
        [
         "('oblong-shaped',)",
         "4"
        ],
        [
         "('modified-capsule shape, biconvex',)",
         "4"
        ],
        [
         "('Oval, Biconvex',)",
         "4"
        ],
        [
         "('Beveled Edge, Biconvex',)",
         "4"
        ],
        [
         "('Oblong-shaped, Biconvex, Film-Coated',)",
         "4"
        ],
        [
         "('circular biconvex shaped',)",
         "4"
        ],
        [
         "('Elliptical',)",
         "4"
        ],
        [
         "('circular-biconvex',)",
         "4"
        ],
        [
         "('shield-shaped',)",
         "4"
        ],
        [
         "('shaped',)",
         "4"
        ],
        [
         "('convex',)",
         "4"
        ],
        [
         "('Flat Faced Beveled Edge',)",
         "4"
        ],
        [
         "('round, biconvex',)",
         "4"
        ],
        [
         "('Oblong',)",
         "4"
        ],
        [
         "('hard gelatin capsule shell',)",
         "2"
        ],
        [
         "('flat capsule',)",
         "2"
        ],
        [
         "('uncoated, flat-faced, beveled-edge',)",
         "2"
        ],
        [
         "('flat faced beveled edge',)",
         "2"
        ]
       ],
       "shape": {
        "columns": 1,
        "rows": 119
       }
      },
      "text/plain": [
       "SHAPETEXT                              \n",
       "ROUND                                      99\n",
       "Biconvex                                   83\n",
       "biconvex                                   73\n",
       "CAPSULE                                    55\n",
       "capsule-shaped                             51\n",
       "                                           ..\n",
       "TRIANGLE                                    2\n",
       "Standard Concave                            2\n",
       "Ovoid rectangular                           2\n",
       "Oblong, normal convex                       2\n",
       "white, capsule shaped, bisected tablets     2\n",
       "Name: count, Length: 119, dtype: int64"
      ]
     },
     "execution_count": 70,
     "metadata": {},
     "output_type": "execute_result"
    }
   ],
   "source": [
    "props_parsed.get(['SHAPETEXT']).value_counts()\n"
   ]
  }
 ],
 "metadata": {
  "kernelspec": {
   "display_name": "Python 3",
   "language": "python",
   "name": "python3"
  },
  "language_info": {
   "codemirror_mode": {
    "name": "ipython",
    "version": 3
   },
   "file_extension": ".py",
   "mimetype": "text/x-python",
   "name": "python",
   "nbconvert_exporter": "python",
   "pygments_lexer": "ipython3",
   "version": "3.11.12"
  }
 },
 "nbformat": 4,
 "nbformat_minor": 5
}
