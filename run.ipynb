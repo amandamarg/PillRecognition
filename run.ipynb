{
 "cells": [
  {
   "cell_type": "code",
   "execution_count": 1,
   "id": "131080eb",
   "metadata": {},
   "outputs": [],
   "source": [
    "import torch\n",
    "from tqdm import tqdm\n",
    "import torch.optim as optim\n",
    "import os\n",
    "from sklearn.metrics import top_k_accuracy_score\n",
    "from torch.utils.tensorboard import SummaryWriter\n",
    "from benchmark.metrics import MetricsCollection\n",
    "import torch.nn as nn\n",
    "from evaluate import LogitsEvaluator, EmbeddingEvaluator\n",
    "import copy\n",
    "from sklearn.preprocessing import LabelEncoder\n",
    "from torch.utils.data import DataLoader\n",
    "from dataset import CustomBatchSamplerPillID, PillImages\n",
    "from benchmark.pillid_datasets import SingleImgPillID, BalancedBatchSamplerPillID, SiamesePillID\n",
    "import utils\n",
    "from benchmark.models.multihead_model import MultiheadModel\n",
    "from benchmark.models.embedding_model import EmbeddingModel\n",
    "from benchmark.models.losses import MultiheadLoss\n",
    "from benchmark.metric_utils import HardNegativePairSelector, RandomNegativeTripletSelector\n",
    "from train import Trainer\n",
    "import pandas as pd\n"
   ]
  },
  {
   "cell_type": "code",
   "execution_count": 2,
   "id": "50a0bc20",
   "metadata": {},
   "outputs": [],
   "source": [
    "all_imgs_df, fold_indicies = utils.load_data()\n",
    "ref_df = all_imgs_df[all_imgs_df.is_ref].reset_index(drop=True)\n",
    "# unique_classes = all_imgs_df['label'].unique()\n",
    "unique_classes = ref_df[\"label\"].unique()\n",
    "all_imgs_df = all_imgs_df[all_imgs_df[\"label\"].isin(unique_classes)].reset_index(drop=True) \n",
    "n_classes = len(unique_classes)\n",
    "label_encoder = LabelEncoder()\n",
    "label_encoder.fit(unique_classes)\n",
    "partitions = utils.split_data(all_imgs_df, fold_indicies)\n",
    "datasets = utils.get_datasets(partitions, ref_df, 'label', False, label_encoder=label_encoder)\n",
    "dataloaders = {}\n",
    "for k,v in datasets.items():\n",
    "    dataloaders[k] = DataLoader(v, batch_sampler=CustomBatchSamplerPillID(v.df, 32, labelcol='label', min_classes=5, min_per_class=3, keep_remainders=True, batch_size_mode='max', debug=False))\n",
    "eval_dataset = PillImages(pd.concat([partitions['val'], ref_df]), \"eval\", labelcol=\"label\", label_encoder=label_encoder)\n",
    "dataloaders[\"eval\"] = DataLoader(eval_dataset, batch_size=32, shuffle=False)"
   ]
  },
  {
   "cell_type": "code",
   "execution_count": null,
   "id": "2ab27210",
   "metadata": {},
   "outputs": [],
   "source": [
    "# dataloaders={}\n",
    "# train_df = pd.concat([partitions[\"train\"], ref_df])\n",
    "# val_df = pd.concat([partitions[\"val\"], ref_df])\n",
    "# labelcol=\"label\"\n",
    "# # train_dataset = SingleImgPillID(train_df, label_encoder, train=True, labelcol=labelcol)\n",
    "# # val_dataset = SingleImgPillID(val_df, label_encoder, train=False, labelcol=labelcol)\n",
    "# train_dataset = PillImages(train_df, \"train\", labelcol=labelcol, label_encoder=label_encoder)\n",
    "# val_dataset = PillImages(val_df, \"val\", labelcol=labelcol, label_encoder=label_encoder)\n",
    "# dataloaders[\"train\"] = DataLoader(train_dataset, batch_sampler=BalancedBatchSamplerPillID(train_df, batch_size=32, labelcol=labelcol))\n",
    "# dataloaders[\"val\"] = DataLoader(val_dataset, batch_sampler=BalancedBatchSamplerPillID(val_df, batch_size=32, labelcol=labelcol))\n",
    "# dataloaders[\"eval\"] = DataLoader(val_dataset, batch_size=32, shuffle=False)\n"
   ]
  },
  {
   "cell_type": "code",
   "execution_count": null,
   "id": "31b637eb",
   "metadata": {},
   "outputs": [],
   "source": [
    "# generated with copilot\n",
    "def clear_directory(directory):\n",
    "    \"\"\"\n",
    "    Recursively deletes all files and subdirectories in the specified directory using os.walk.\n",
    "    \"\"\"\n",
    "    for root, dirs, files in os.walk(directory, topdown=False):\n",
    "        for name in files:\n",
    "            os.remove(os.path.join(root, name))\n",
    "        for name in dirs:\n",
    "            os.rmdir(os.path.join(root, name))\n"
   ]
  },
  {
   "cell_type": "code",
   "execution_count": null,
   "id": "b9424b50",
   "metadata": {},
   "outputs": [
    {
     "name": "stdout",
     "output_type": "stream",
     "text": [
      "mps\n",
      "treat front/back as different classes (first half: front, second half: back), n_classes=9804\n"
     ]
    }
   ],
   "source": [
    "# with batch sampler from dataset.py\n",
    "torch.mps.empty_cache()\n",
    "log_file_path = \"./benchmark_training_logs\"\n",
    "writer = SummaryWriter(log_file_path)\n",
    "device = torch.device('mps') if torch.backends.mps.is_available() else torch.device('cpu')\n",
    "print(device)\n",
    "appearance_network = 'resnet50'\n",
    "pooling = 'GAvP'\n",
    "dropout = 0.0\n",
    "embedding_dim = 2048\n",
    "ce_w = 1.0\n",
    "arcface_w = 0.1\n",
    "contrastive_w = 1.0 \n",
    "triplet_w = 1.0\n",
    "focal_w = 0.0\n",
    "loss_weights = {'ce': ce_w, 'arcface': arcface_w, 'contrastive': contrastive_w, 'triplet': triplet_w, 'focal': focal_w}\n",
    "focal_gamma = 0.0\n",
    "metric_margin = 1.0\n",
    "train_with_side_labels = True\n",
    "use_ref_labels = True\n",
    "clip_grads = True\n",
    "path = \"./\"\n",
    "criterion = MultiheadLoss(len(label_encoder.classes_),\n",
    "            metric_margin, HardNegativePairSelector(),\n",
    "            metric_margin, RandomNegativeTripletSelector(metric_margin),\n",
    "            use_cosine=False,\n",
    "            weights=loss_weights,\n",
    "            focal_gamma=focal_gamma,\n",
    "            use_side_labels=train_with_side_labels)\n",
    "E_model = EmbeddingModel(network=appearance_network, pooling=pooling, dropout_p=dropout, cont_dims=embedding_dim, pretrained=True)\n",
    "model = MultiheadModel(E_model, n_classes, train_with_side_labels=train_with_side_labels).to(device)\n",
    "opt = optim.Adam(model.parameters(), lr=1e-4)\n",
    "lr_scheduler = optim.lr_scheduler.ReduceLROnPlateau(opt, mode='min', factor=0.1, patience=5)\n",
    "trainer = Trainer(device=device, model=model, dataloaders=dataloaders, clip_gradients=clip_grads, optimizer=opt, lr_scheduler=lr_scheduler, criterion=criterion, writer=writer, eval_update_type=\"logit\", metric_type=\"euclidean\", simulate_pairs=False, shift_labels=False, path=path)"
   ]
  },
  {
   "cell_type": "code",
   "execution_count": 5,
   "id": "af3f9f4f",
   "metadata": {},
   "outputs": [
    {
     "name": "stdout",
     "output_type": "stream",
     "text": [
      "Epoch 0\n",
      "Running train loop...\n"
     ]
    },
    {
     "name": "stderr",
     "output_type": "stream",
     "text": [
      "112it [00:35,  3.19it/s]                         \n"
     ]
    },
    {
     "name": "stdout",
     "output_type": "stream",
     "text": [
      "Running val loop...\n"
     ]
    },
    {
     "name": "stderr",
     "output_type": "stream",
     "text": [
      "38it [00:06,  5.59it/s]                        \n"
     ]
    },
    {
     "name": "stdout",
     "output_type": "stream",
     "text": [
      "Loading eval data...\n"
     ]
    },
    {
     "name": "stderr",
     "output_type": "stream",
     "text": [
      "100%|██████████| 330/330 [00:33<00:00,  9.75it/s]\n"
     ]
    },
    {
     "name": "stdout",
     "output_type": "stream",
     "text": [
      "Starting logit eval...\n",
      "Starting emb eval...\n",
      "logit_acc_1=0.0009479571523367143\n",
      "logit_acc_5=0.0033178500331785005\n",
      "logit_micro_ap=0.0002330153089054328\n",
      "logit_mrr=0.003795272459241446\n",
      "emb_acc_1=0.0912751677852349\n",
      "emb_map_1=0.0912751677852349\n",
      "emb_acc_5=0.22281879194630871\n",
      "emb_map_5=0.13662192393736017\n",
      "emb_micro_ap=0.012400867865038535\n",
      "emb_mrr=0.1616293514560103\n",
      "Saving model to path ./checkpoints/epoch_0.pth\n",
      "Best checkpoint: 0, Best value: 0.0002330153089054328\n",
      "Best Checkpoint index: 0\n",
      "Epoch 1\n",
      "Running train loop...\n"
     ]
    },
    {
     "name": "stderr",
     "output_type": "stream",
     "text": [
      "114it [00:35,  3.20it/s]                         \n"
     ]
    },
    {
     "name": "stdout",
     "output_type": "stream",
     "text": [
      "Running val loop...\n"
     ]
    },
    {
     "name": "stderr",
     "output_type": "stream",
     "text": [
      "38it [00:07,  5.41it/s]                        \n"
     ]
    },
    {
     "name": "stdout",
     "output_type": "stream",
     "text": [
      "Epoch 2\n",
      "Running train loop...\n"
     ]
    },
    {
     "name": "stderr",
     "output_type": "stream",
     "text": [
      "114it [00:36,  3.15it/s]                         \n"
     ]
    },
    {
     "name": "stdout",
     "output_type": "stream",
     "text": [
      "Running val loop...\n"
     ]
    },
    {
     "name": "stderr",
     "output_type": "stream",
     "text": [
      "38it [00:06,  5.57it/s]                        \n"
     ]
    },
    {
     "name": "stdout",
     "output_type": "stream",
     "text": [
      "Epoch 3\n",
      "Running train loop...\n"
     ]
    },
    {
     "name": "stderr",
     "output_type": "stream",
     "text": [
      "113it [00:36,  3.13it/s]                         \n"
     ]
    },
    {
     "name": "stdout",
     "output_type": "stream",
     "text": [
      "Running val loop...\n"
     ]
    },
    {
     "name": "stderr",
     "output_type": "stream",
     "text": [
      "38it [00:07,  5.40it/s]                        \n"
     ]
    },
    {
     "name": "stdout",
     "output_type": "stream",
     "text": [
      "Loading eval data...\n"
     ]
    },
    {
     "name": "stderr",
     "output_type": "stream",
     "text": [
      "100%|██████████| 330/330 [00:35<00:00,  9.36it/s]\n"
     ]
    },
    {
     "name": "stdout",
     "output_type": "stream",
     "text": [
      "Starting logit eval...\n",
      "Starting emb eval...\n",
      "logit_acc_1=0.0019907100199071004\n",
      "logit_acc_5=0.007583657218693715\n",
      "logit_micro_ap=0.00027589559021883026\n",
      "logit_mrr=0.006601959764174629\n",
      "emb_acc_1=0.1691275167785235\n",
      "emb_map_1=0.1691275167785235\n",
      "emb_acc_5=0.3919463087248322\n",
      "emb_map_5=0.2513646532438479\n",
      "emb_micro_ap=0.036682290230576536\n",
      "emb_mrr=0.28164239895440685\n",
      "Saving model to path ./checkpoints/epoch_3.pth\n",
      "Best checkpoint: 1, Best value: 0.00027589559021883026\n",
      "Best Checkpoint index: 1\n",
      "Epoch 4\n",
      "Running train loop...\n"
     ]
    },
    {
     "name": "stderr",
     "output_type": "stream",
     "text": [
      "114it [00:36,  3.16it/s]                         \n"
     ]
    },
    {
     "name": "stdout",
     "output_type": "stream",
     "text": [
      "Running val loop...\n"
     ]
    },
    {
     "name": "stderr",
     "output_type": "stream",
     "text": [
      "39it [00:07,  5.36it/s]                        \n"
     ]
    },
    {
     "name": "stdout",
     "output_type": "stream",
     "text": [
      "Epoch 5\n",
      "Running train loop...\n"
     ]
    },
    {
     "name": "stderr",
     "output_type": "stream",
     "text": [
      "114it [00:35,  3.21it/s]                         \n"
     ]
    },
    {
     "name": "stdout",
     "output_type": "stream",
     "text": [
      "Running val loop...\n"
     ]
    },
    {
     "name": "stderr",
     "output_type": "stream",
     "text": [
      "38it [00:06,  5.58it/s]                        \n"
     ]
    },
    {
     "name": "stdout",
     "output_type": "stream",
     "text": [
      "Epoch 6\n",
      "Running train loop...\n"
     ]
    },
    {
     "name": "stderr",
     "output_type": "stream",
     "text": [
      "114it [00:35,  3.20it/s]                         \n"
     ]
    },
    {
     "name": "stdout",
     "output_type": "stream",
     "text": [
      "Running val loop...\n"
     ]
    },
    {
     "name": "stderr",
     "output_type": "stream",
     "text": [
      "38it [00:06,  5.48it/s]                        \n"
     ]
    },
    {
     "name": "stdout",
     "output_type": "stream",
     "text": [
      "Loading eval data...\n"
     ]
    },
    {
     "name": "stderr",
     "output_type": "stream",
     "text": [
      "100%|██████████| 330/330 [00:34<00:00,  9.68it/s]\n"
     ]
    },
    {
     "name": "stdout",
     "output_type": "stream",
     "text": [
      "Starting logit eval...\n",
      "Starting emb eval...\n",
      "logit_acc_1=0.003697032894113186\n",
      "logit_acc_5=0.013745378708882358\n",
      "logit_micro_ap=0.00040234713152583997\n",
      "logit_mrr=0.011014833083077585\n",
      "emb_acc_1=0.2738255033557047\n",
      "emb_map_1=0.2738255033557047\n",
      "emb_acc_5=0.5288590604026846\n",
      "emb_map_5=0.3615212527964206\n",
      "emb_micro_ap=0.04912300947990809\n",
      "emb_mrr=0.38768190827714244\n",
      "Saving model to path ./checkpoints/epoch_6.pth\n",
      "Best checkpoint: 2, Best value: 0.00040234713152583997\n",
      "Best Checkpoint index: 2\n",
      "Epoch 7\n",
      "Running train loop...\n"
     ]
    },
    {
     "name": "stderr",
     "output_type": "stream",
     "text": [
      "114it [00:36,  3.15it/s]                         \n"
     ]
    },
    {
     "name": "stdout",
     "output_type": "stream",
     "text": [
      "Running val loop...\n"
     ]
    },
    {
     "name": "stderr",
     "output_type": "stream",
     "text": [
      "38it [00:07,  5.32it/s]                        \n"
     ]
    },
    {
     "name": "stdout",
     "output_type": "stream",
     "text": [
      "Epoch 8\n",
      "Running train loop...\n"
     ]
    },
    {
     "name": "stderr",
     "output_type": "stream",
     "text": [
      "113it [00:35,  3.17it/s]                         \n"
     ]
    },
    {
     "name": "stdout",
     "output_type": "stream",
     "text": [
      "Running val loop...\n"
     ]
    },
    {
     "name": "stderr",
     "output_type": "stream",
     "text": [
      "38it [00:07,  5.34it/s]                        \n"
     ]
    },
    {
     "name": "stdout",
     "output_type": "stream",
     "text": [
      "Epoch 9\n",
      "Running train loop...\n"
     ]
    },
    {
     "name": "stderr",
     "output_type": "stream",
     "text": [
      "113it [00:35,  3.18it/s]                         \n"
     ]
    },
    {
     "name": "stdout",
     "output_type": "stream",
     "text": [
      "Running val loop...\n"
     ]
    },
    {
     "name": "stderr",
     "output_type": "stream",
     "text": [
      "38it [00:07,  5.34it/s]                        \n"
     ]
    },
    {
     "name": "stdout",
     "output_type": "stream",
     "text": [
      "Loading eval data...\n"
     ]
    },
    {
     "name": "stderr",
     "output_type": "stream",
     "text": [
      "100%|██████████| 330/330 [00:36<00:00,  9.14it/s]\n"
     ]
    },
    {
     "name": "stdout",
     "output_type": "stream",
     "text": [
      "Starting logit eval...\n",
      "Starting emb eval...\n",
      "logit_acc_1=0.006825291496824344\n",
      "logit_acc_5=0.02559484311309129\n",
      "logit_micro_ap=0.0009902656984576029\n",
      "logit_mrr=0.017259668950086793\n",
      "emb_acc_1=0.33557046979865773\n",
      "emb_map_1=0.33557046979865773\n",
      "emb_acc_5=0.6040268456375839\n",
      "emb_map_5=0.4340268456375839\n",
      "emb_micro_ap=0.08791018876763936\n",
      "emb_mrr=0.46110607511858703\n",
      "Saving model to path ./checkpoints/epoch_9.pth\n",
      "Best checkpoint: 3, Best value: 0.0009902656984576029\n",
      "Best Checkpoint index: 3\n",
      "Loading eval data...\n"
     ]
    },
    {
     "name": "stderr",
     "output_type": "stream",
     "text": [
      "100%|██████████| 330/330 [00:35<00:00,  9.29it/s]\n"
     ]
    },
    {
     "name": "stdout",
     "output_type": "stream",
     "text": [
      "Starting logit eval...\n",
      "Starting emb eval...\n",
      "logit_acc_1=0.006825291496824344\n",
      "logit_acc_5=0.02559484311309129\n",
      "logit_micro_ap=0.0009902656984576029\n",
      "logit_mrr=0.017259668950086793\n",
      "emb_acc_1=0.33557046979865773\n",
      "emb_map_1=0.33557046979865773\n",
      "emb_acc_5=0.6040268456375839\n",
      "emb_map_5=0.4340268456375839\n",
      "emb_micro_ap=0.08791018876763936\n",
      "emb_mrr=0.46110607511858703\n",
      "Saving model to path ./checkpoints/epoch_8.pth\n"
     ]
    },
    {
     "data": {
      "text/plain": [
       "'./checkpoints/epoch_9.pth'"
      ]
     },
     "execution_count": 5,
     "metadata": {},
     "output_type": "execute_result"
    }
   ],
   "source": [
    "clear_directory(log_file_path)\n",
    "clear_directory(\"./checkpoints\")\n",
    "trainer.train(num_epochs=10, checkpoint=3, earlystop_patience=5)"
   ]
  },
  {
   "cell_type": "code",
   "execution_count": null,
   "id": "9e9f8eb2",
   "metadata": {},
   "outputs": [
    {
     "name": "stdout",
     "output_type": "stream",
     "text": [
      "mps\n",
      "treat front/back as different classes (first half: front, second half: back), n_classes=9804\n"
     ]
    }
   ],
   "source": [
    "# with batch sampler from benchmark.pillid_dataset.py (https://github.com/usuyama/ePillID-benchmark)\n",
    "dataloaders={}\n",
    "train_df = pd.concat([partitions[\"train\"], ref_df])\n",
    "val_df = pd.concat([partitions[\"val\"], ref_df])\n",
    "labelcol=\"label\"\n",
    "train_dataset = PillImages(train_df, \"train\", labelcol=labelcol, label_encoder=label_encoder)\n",
    "val_dataset = PillImages(val_df, \"val\", labelcol=labelcol, label_encoder=label_encoder)\n",
    "dataloaders[\"train\"] = DataLoader(train_dataset, batch_sampler=BalancedBatchSamplerPillID(train_df, batch_size=32, labelcol=labelcol))\n",
    "dataloaders[\"val\"] = DataLoader(val_dataset, batch_sampler=BalancedBatchSamplerPillID(val_df, batch_size=32, labelcol=labelcol))\n",
    "dataloaders[\"eval\"] = DataLoader(val_dataset, batch_size=32, shuffle=False)\n",
    "torch.mps.empty_cache()\n",
    "log_file_path = \"./benchmark_training_logs2\"\n",
    "writer2 = SummaryWriter(log_file_path)\n",
    "device = torch.device('mps') if torch.backends.mps.is_available() else torch.device('cpu')\n",
    "print(device)\n",
    "appearance_network = 'resnet50'\n",
    "pooling = 'GAvP'\n",
    "dropout = 0.0\n",
    "embedding_dim = 2048\n",
    "ce_w = 1.0\n",
    "arcface_w = 0.1\n",
    "contrastive_w = 1.0 \n",
    "triplet_w = 1.0\n",
    "focal_w = 0.0\n",
    "loss_weights = {'ce': ce_w, 'arcface': arcface_w, 'contrastive': contrastive_w, 'triplet': triplet_w, 'focal': focal_w}\n",
    "focal_gamma = 0.0\n",
    "metric_margin = 1.0\n",
    "train_with_side_labels = True\n",
    "use_ref_labels = True\n",
    "clip_grads = True\n",
    "path = \"./m2\"\n",
    "criterion2 = MultiheadLoss(len(label_encoder.classes_),\n",
    "            metric_margin, HardNegativePairSelector(),\n",
    "            metric_margin, RandomNegativeTripletSelector(metric_margin),\n",
    "            use_cosine=False,\n",
    "            weights=loss_weights,\n",
    "            focal_gamma=focal_gamma,\n",
    "            use_side_labels=train_with_side_labels)\n",
    "E_model2 = EmbeddingModel(network=appearance_network, pooling=pooling, dropout_p=dropout, cont_dims=embedding_dim, pretrained=True)\n",
    "model2 = MultiheadModel(E_model2, n_classes, train_with_side_labels=train_with_side_labels).to(device)\n",
    "opt2 = optim.Adam(model.parameters(), lr=1e-4)\n",
    "lr_scheduler2 = optim.lr_scheduler.ReduceLROnPlateau(opt2, mode='min', factor=0.1, patience=5)\n",
    "trainer2 = Trainer(device=device, model=model2, dataloaders=dataloaders, clip_gradients=clip_grads, optimizer=opt2, lr_scheduler=lr_scheduler2, criterion=criterion2, writer=writer2, eval_update_type=\"logit\", metric_type=\"euclidean\", simulate_pairs=False, shift_labels=False, path=path)"
   ]
  },
  {
   "cell_type": "code",
   "execution_count": null,
   "id": "2d1f346e",
   "metadata": {},
   "outputs": [
    {
     "name": "stdout",
     "output_type": "stream",
     "text": [
      "Epoch 0\n",
      "Running train loop...\n"
     ]
    },
    {
     "name": "stderr",
     "output_type": "stream",
     "text": [
      " 34%|███▍      | 128/376 [00:38<01:14,  3.33it/s]\n"
     ]
    },
    {
     "name": "stdout",
     "output_type": "stream",
     "text": [
      "Running val loop...\n"
     ]
    },
    {
     "name": "stderr",
     "output_type": "stream",
     "text": [
      " 13%|█▎        | 43/329 [00:08<00:53,  5.35it/s]\n"
     ]
    },
    {
     "name": "stdout",
     "output_type": "stream",
     "text": [
      "Loading eval data...\n"
     ]
    },
    {
     "name": "stderr",
     "output_type": "stream",
     "text": [
      "100%|██████████| 330/330 [00:34<00:00,  9.58it/s]\n"
     ]
    },
    {
     "name": "stdout",
     "output_type": "stream",
     "text": [
      "Starting logit eval...\n",
      "Starting emb eval...\n",
      "logit_acc_1=9.479571523367143e-05\n",
      "logit_acc_5=0.0007583657218693715\n",
      "logit_micro_ap=0.00020253183326028972\n",
      "logit_mrr=0.0017087015970376214\n",
      "emb_acc_1=0.025503355704697986\n",
      "emb_map_1=0.025503355704697986\n",
      "emb_acc_5=0.0953020134228188\n",
      "emb_map_5=0.04984340044742729\n",
      "emb_micro_ap=0.002453326789231751\n",
      "emb_mrr=0.06285456676357905\n",
      "Saving model to path ./m2/checkpoints/epoch_0.pth\n",
      "Best checkpoint: 0, Best value: 0.00020253183326028972\n",
      "Best Checkpoint index: 0\n",
      "Epoch 1\n",
      "Running train loop...\n"
     ]
    },
    {
     "name": "stderr",
     "output_type": "stream",
     "text": [
      " 34%|███▍      | 129/376 [00:39<01:15,  3.28it/s]\n"
     ]
    },
    {
     "name": "stdout",
     "output_type": "stream",
     "text": [
      "Running val loop...\n"
     ]
    },
    {
     "name": "stderr",
     "output_type": "stream",
     "text": [
      " 13%|█▎        | 43/329 [00:07<00:53,  5.39it/s]\n"
     ]
    },
    {
     "name": "stdout",
     "output_type": "stream",
     "text": [
      "Epoch 2\n",
      "Running train loop...\n"
     ]
    },
    {
     "name": "stderr",
     "output_type": "stream",
     "text": [
      " 34%|███▍      | 129/376 [00:38<01:14,  3.31it/s]\n"
     ]
    },
    {
     "name": "stdout",
     "output_type": "stream",
     "text": [
      "Running val loop...\n"
     ]
    },
    {
     "name": "stderr",
     "output_type": "stream",
     "text": [
      " 13%|█▎        | 43/329 [00:07<00:52,  5.40it/s]\n"
     ]
    },
    {
     "name": "stdout",
     "output_type": "stream",
     "text": [
      "Epoch 3\n",
      "Running train loop...\n"
     ]
    },
    {
     "name": "stderr",
     "output_type": "stream",
     "text": [
      " 35%|███▍      | 130/376 [00:41<01:18,  3.13it/s]\n"
     ]
    },
    {
     "name": "stdout",
     "output_type": "stream",
     "text": [
      "Running val loop...\n"
     ]
    },
    {
     "name": "stderr",
     "output_type": "stream",
     "text": [
      " 13%|█▎        | 42/329 [00:07<00:52,  5.47it/s]\n"
     ]
    },
    {
     "name": "stdout",
     "output_type": "stream",
     "text": [
      "Loading eval data...\n"
     ]
    },
    {
     "name": "stderr",
     "output_type": "stream",
     "text": [
      "100%|██████████| 330/330 [00:35<00:00,  9.27it/s]\n"
     ]
    },
    {
     "name": "stdout",
     "output_type": "stream",
     "text": [
      "Starting logit eval...\n",
      "Starting emb eval...\n",
      "logit_acc_1=0.0\n",
      "logit_acc_5=0.0006635700066357001\n",
      "logit_micro_ap=0.00020339404053726102\n",
      "logit_mrr=0.0016175682656183073\n",
      "emb_acc_1=0.028187919463087248\n",
      "emb_map_1=0.028187919463087248\n",
      "emb_acc_5=0.09395973154362416\n",
      "emb_map_5=0.049351230425055924\n",
      "emb_micro_ap=0.0027192369931886198\n",
      "emb_mrr=0.06275921403425387\n",
      "Saving model to path ./m2/checkpoints/epoch_3.pth\n",
      "Best checkpoint: 1, Best value: 0.00020339404053726102\n",
      "Best Checkpoint index: 1\n",
      "Epoch 4\n",
      "Running train loop...\n"
     ]
    },
    {
     "name": "stderr",
     "output_type": "stream",
     "text": [
      " 34%|███▍      | 129/376 [00:38<01:13,  3.34it/s]\n"
     ]
    },
    {
     "name": "stdout",
     "output_type": "stream",
     "text": [
      "Running val loop...\n"
     ]
    },
    {
     "name": "stderr",
     "output_type": "stream",
     "text": [
      " 13%|█▎        | 43/329 [00:07<00:52,  5.42it/s]\n"
     ]
    },
    {
     "name": "stdout",
     "output_type": "stream",
     "text": [
      "Epoch 5\n",
      "Running train loop...\n"
     ]
    },
    {
     "name": "stderr",
     "output_type": "stream",
     "text": [
      " 34%|███▍      | 129/376 [00:38<01:13,  3.35it/s]\n"
     ]
    },
    {
     "name": "stdout",
     "output_type": "stream",
     "text": [
      "Running val loop...\n"
     ]
    },
    {
     "name": "stderr",
     "output_type": "stream",
     "text": [
      " 13%|█▎        | 43/329 [00:08<00:53,  5.36it/s]\n"
     ]
    },
    {
     "name": "stdout",
     "output_type": "stream",
     "text": [
      "Epoch 6\n",
      "Running train loop...\n"
     ]
    },
    {
     "name": "stderr",
     "output_type": "stream",
     "text": [
      " 34%|███▍      | 128/376 [00:38<01:14,  3.33it/s]\n"
     ]
    },
    {
     "name": "stdout",
     "output_type": "stream",
     "text": [
      "Running val loop...\n"
     ]
    },
    {
     "name": "stderr",
     "output_type": "stream",
     "text": [
      " 13%|█▎        | 42/329 [00:07<00:53,  5.41it/s]\n"
     ]
    },
    {
     "name": "stdout",
     "output_type": "stream",
     "text": [
      "Loading eval data...\n"
     ]
    },
    {
     "name": "stderr",
     "output_type": "stream",
     "text": [
      "100%|██████████| 330/330 [00:34<00:00,  9.69it/s]\n"
     ]
    },
    {
     "name": "stdout",
     "output_type": "stream",
     "text": [
      "Starting logit eval...\n",
      "Starting emb eval...\n",
      "logit_acc_1=0.0\n",
      "logit_acc_5=0.0010427528675703858\n",
      "logit_micro_ap=0.00020254200861197244\n",
      "logit_mrr=0.0017039006441134474\n",
      "emb_acc_1=0.024161073825503355\n",
      "emb_map_1=0.024161073825503355\n",
      "emb_acc_5=0.08993288590604027\n",
      "emb_map_5=0.04733780760626398\n",
      "emb_micro_ap=0.0028657554254951194\n",
      "emb_mrr=0.06054814444814157\n",
      "Saving model to path ./m2/checkpoints/epoch_6.pth\n",
      "Best Checkpoint index: 1\n",
      "Epoch 7\n",
      "Running train loop...\n"
     ]
    },
    {
     "name": "stderr",
     "output_type": "stream",
     "text": [
      " 12%|█▏        | 46/376 [00:13<01:38,  3.34it/s]"
     ]
    }
   ],
   "source": [
    "clear_directory(log_file_path)\n",
    "clear_directory(\"./m2/checkpoints\")\n",
    "trainer2.train(num_epochs=10, checkpoint=3, earlystop_patience=5)"
   ]
  }
 ],
 "metadata": {
  "kernelspec": {
   "display_name": ".venv",
   "language": "python",
   "name": "python3"
  },
  "language_info": {
   "codemirror_mode": {
    "name": "ipython",
    "version": 3
   },
   "file_extension": ".py",
   "mimetype": "text/x-python",
   "name": "python",
   "nbconvert_exporter": "python",
   "pygments_lexer": "ipython3",
   "version": "3.13.3"
  }
 },
 "nbformat": 4,
 "nbformat_minor": 5
}
