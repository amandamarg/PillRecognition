{
 "cells": [
  {
   "cell_type": "code",
   "execution_count": 170,
   "id": "626da9f5",
   "metadata": {},
   "outputs": [],
   "source": [
    "import os\n",
    "import pandas as pd\n",
    "import torch\n",
    "import matplotlib.pyplot as plt\n",
    "from PIL import Image\n",
    "import numpy as np\n",
    "from utils import zeroPadFront, get_terminology\n",
    "from torchvision.models import resnet50, ResNet50_Weights\n",
    "from sklearn.cluster import KMeans\n",
    "from sklearn.decomposition import PCA\n",
    "import matplotlib as mpl"
   ]
  },
  {
   "cell_type": "code",
   "execution_count": 171,
   "id": "9e6dd757",
   "metadata": {},
   "outputs": [],
   "source": [
    "class SPL_Terms:\n",
    "    def __init__(self, path=\"./\"):\n",
    "        self.color = get_terminology(path + \"/color.xml\")\n",
    "        self.color.set_index(\"code\", inplace=True)\n",
    "        self.shape = get_terminology(path + \"/shape.xml\")\n",
    "        self.shape.set_index(\"code\", inplace=True)\n",
    "\n",
    "    def translateColorCode(self, spl_codes):\n",
    "        if not spl_codes:\n",
    "            return []\n",
    "        return [self.color.loc[c][\"name\"] for c in spl_codes]\n",
    "    \n",
    "    def translateShapeCode(self, spl_codes):\n",
    "        if not spl_codes:\n",
    "            return []\n",
    "        return [self.color.loc[c][\"name\"] for c in spl_codes]\n",
    "\n",
    "spl_terms = SPL_Terms()\n",
    "\n",
    "def getMarker(color):\n",
    "    if not color:\n",
    "        return {'marker':'.', 'markersize':10, 'color':'black'}\n",
    "    elif len(color) == 1:\n",
    "        return {'marker':'o', 'markersize':10, 'color':color[0], 'markeredgecolor':'black'}\n",
    "    else:\n",
    "        return {'marker':'o', 'markersize':10, 'fillstyle':'left', 'color':color[0], 'markerfacecoloralt':color[1], 'markeredgecolor':'black'}\n",
    "    \n",
    "def loadImages(paths):\n",
    "    return np.stack(paths.map(Image.open))\n",
    "\n",
    "def normalize(images):\n",
    "    mean = np.mean(images, axis=(0,1,2))\n",
    "    std = np.std(images, axis=(0,1,2))\n",
    "    return (images-mean)/std\n",
    "\n",
    "def encodeImages(image_paths, model):\n",
    "    #load and normalize images\n",
    "    images = normalize(np.stack(image_paths.map(Image.open)))\n",
    "\n",
    "    #convert to tensor and change dimensions to (n,c,w,h)\n",
    "    images = torch.Tensor(images).permute(dims=(0,3,1,2))\n",
    "\n",
    "    with torch.no_grad():\n",
    "        encodings=model(images)\n",
    "    \n",
    "    return encodings\n",
    "\n",
    "format_ndc = lambda label_code, product_code: zeroPadFront(label_code, 5) + '-' + zeroPadFront(product_code, 4)\n",
    "\n",
    "def plotClusters(x, labels, center, path=\"./cluster_plots\"):\n",
    "    n = len(labels)\n",
    "    k = len(center)\n",
    "    colors = list(mpl.colors.XKCD_COLORS.keys())[0:n]\n",
    "    plt.scatter(x[:, 0], x[:, 1], c=list(map(lambda i: colors[i], labels)), s=10)\n",
    "    plt.scatter(center[:, 0], center[:, 1], c='red', s=200, marker='X', label='Centroids')\n",
    "    plt.title(\"k=\" + str(k))\n",
    "    plt.savefig(path + \"/k=\" + str(k) + \".png\")\n",
    "    plt.close()\n",
    "\n",
    "\n",
    "def kmeans_elbow_plot(encodings, start_k, max_k=None, plot_clusters=False):\n",
    "    if not max_k:\n",
    "        max_k = start_k\n",
    "    wcss=[]\n",
    "    for k in range(start_k, max_k+1):\n",
    "        kmeans = KMeans(n_clusters=k, random_state=0)\n",
    "        labels = kmeans.fit_predict(encodings)\n",
    "        center = kmeans.cluster_centers_\n",
    "        wcss.append(kmeans.inertia_)\n",
    "        if plot_clusters:\n",
    "            plot_clusters(k, encodings, labels, center)\n",
    "    \n",
    "    plt.plot(np.arange(start_k, max_k), wcss, marker=\"o\")\n",
    "    plt.title(\"Elbow Plot\")\n",
    "    plt.xlabel(\"k values\")\n",
    "    plt.ylabel(\"Within-Cluster Sum of Squares (WCSS)\")\n",
    "    plt.savefig(\"elbow_plot.png\")\n",
    "    plt.show()"
   ]
  },
  {
   "cell_type": "code",
   "execution_count": null,
   "id": "1a4b5685",
   "metadata": {},
   "outputs": [],
   "source": [
    "all_labels = pd.read_csv(\"./datasets/ePillID_data/all_labels.csv\")\n",
    "format_ndc = lambda label_code, product_code: zeroPadFront(label_code, 5) + '-' + zeroPadFront(product_code, 4)\n",
    "codes = all_labels.apply(lambda x: format_ndc(x['label_code_id'], x['prod_code_id']), axis=1)\n",
    "all_labels['NDC'] = codes\n",
    "\n",
    "properties = pd.read_json(\"ePillId_properties.json\")\n",
    "properties[\"NDC\"] = properties[\"NDC\"].map(lambda x: format_ndc(x.split(\"-\")[0], x.split(\"-\")[1]))\n",
    "properties.set_index(\"NDC\", inplace=True)\n",
    "properties[\"marker\"] = properties[\"COLOR\"].str.split(\";\").map(lambda c: getMarker(spl_terms.translateColorCode(c)))\n",
    "\n",
    "all_labels_properties = all_labels.join(properties, on=\"NDC\", how=\"left\")\n",
    "segmented_nih_pills = all_labels_properties[all_labels_properties[\"image_path\"].str.startswith(\"segmented_nih_pills_224\")]\n"
   ]
  },
  {
   "cell_type": "code",
   "execution_count": null,
   "id": "879dda04",
   "metadata": {},
   "outputs": [],
   "source": [
    "model = resnet50(weights=ResNet50_Weights.DEFAULT)\n",
    "\n",
    "#peel off last layer\n",
    "model.fc = torch.nn.Identity() "
   ]
  },
  {
   "cell_type": "code",
   "execution_count": 164,
   "id": "f5b16a7b",
   "metadata": {},
   "outputs": [],
   "source": [
    "import random\n",
    "dir_path = \"./datasets/ePillId_data/classification_data/\"\n",
    "rand_sample = segmented_nih_pills.loc[random.sample(segmented_nih_pills.index.to_list(), 100)]\n",
    "rand_sample[\"image_path\"] = rand_sample[\"image_path\"].map(lambda x: dir_path + x)\n",
    "rand_sample[\"encoding\"] = encodeImages(rand_sample[\"image_path\"], model).tolist()"
   ]
  },
  {
   "cell_type": "code",
   "execution_count": 177,
   "id": "9b284ded",
   "metadata": {},
   "outputs": [],
   "source": [
    "pca = PCA(2)\n",
    "reduced_encodings = pca.fit_transform(np.stack(rand_sample[\"encoding\"].values))\n",
    "rand_sample[\"reduced_encoding\"] = reduced_encodings.tolist()\n",
    "\n",
    "for group in rand_sample.groupby(\"COLOR\"):\n",
    "    marker_style = getMarker(spl_terms.translateColorCode(group[0].split(\";\")))\n",
    "    data = np.stack(group[1][\"reduced_encodings\"].values)\n",
    "    plt.plot(data[:,0], data[:,1], linestyle=\"None\", **marker_style)\n",
    "plt.title(\"2D Image Encodings\") \n",
    "plt.savefig(\"./2D_Image_Encodings.png\")\n",
    "plt.close()"
   ]
  },
  {
   "cell_type": "code",
   "execution_count": 178,
   "id": "1de1ac23",
   "metadata": {},
   "outputs": [
    {
     "data": {
      "image/png": "[encoded data removed]",
      "text/plain": [
       "<Figure size 640x480 with 1 Axes>"
      ]
     },
     "metadata": {},
     "output_type": "display_data"
    }
   ],
   "source": [
    "start_k = 1\n",
    "max_k = 10\n",
    "wcss=[]\n",
    "encodings = np.stack(rand_sample[\"reduced_encoding\"].values)\n",
    "for k in range(start_k, max_k+1):\n",
    "    kmeans = KMeans(n_clusters=k, random_state=0)\n",
    "    labels = kmeans.fit_predict(encodings)\n",
    "    center = kmeans.cluster_centers_\n",
    "    wcss.append(kmeans.inertia_)\n",
    "    n = len(labels)\n",
    "    k = len(center)\n",
    "    colors = list(mpl.colors.XKCD_COLORS.keys())[0:n]\n",
    "    plt.scatter(encodings[:, 0], encodings[:, 1], c=list(map(lambda i: colors[i], labels)), s=10)\n",
    "    plt.scatter(center[:, 0], center[:, 1], c='red', s=200, marker='X', label='Centroids')\n",
    "    plt.title(\"k=\" + str(k))\n",
    "    plt.savefig(\"./cluster_plots\" + \"/k=\" + str(k) + \".png\")\n",
    "    plt.close()\n",
    "\n",
    "plt.plot(np.arange(start_k, max_k+1), wcss, marker=\"o\")\n",
    "plt.title(\"Elbow Plot\")\n",
    "plt.xlabel(\"k values\")\n",
    "plt.ylabel(\"Within-Cluster Sum of Squares (WCSS)\")\n",
    "plt.savefig(\"elbow_plot.png\")\n",
    "plt.show()"
   ]
  }
 ],
 "metadata": {
  "kernelspec": {
   "display_name": "Python 3",
   "language": "python",
   "name": "python3"
  },
  "language_info": {
   "codemirror_mode": {
    "name": "ipython",
    "version": 3
   },
   "file_extension": ".py",
   "mimetype": "text/x-python",
   "name": "python",
   "nbconvert_exporter": "python",
   "pygments_lexer": "ipython3",
   "version": "3.11.13"
  }
 },
 "nbformat": 4,
 "nbformat_minor": 5
}
