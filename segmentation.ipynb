{
 "cells": [
  {
   "cell_type": "code",
   "execution_count": null,
   "id": "f45e8816",
   "metadata": {},
   "outputs": [],
   "source": [
    "# import ultralytics\n",
    "\n",
    "# #train on yolo11 segmantation on dataset\n",
    "# model = ultralytics.YOLO('yolo11n-seg.pt')\n",
    "# results = model.train(data=dataset_path + '/data.yaml', fraction=1, epochs=10, single_cls=True, plots=True)"
   ]
  },
  {
   "cell_type": "code",
   "execution_count": 7,
   "id": "6308000e",
   "metadata": {},
   "outputs": [
    {
     "name": "stdout",
     "output_type": "stream",
     "text": [
      "{'segmentation': {'taiwan_pills': {'root_path': '/Users/Amanda/Desktop/PillRecognition/datasets/taiwan_pill_for_label', 'yaml_path': '/Users/Amanda/Desktop/PillRecognition/datasets/taiwan_pill_for_label/data.yaml'}, 'ogyeiv2': {'root_path': '/Users/Amanda/.cache/kagglehub/datasets/richardradli/ogyeiv2/versions/3/ogyeiv2/ogyeiv2', 'yaml_path': '/Users/Amanda/.cache/kagglehub/datasets/richardradli/ogyeiv2/versions/3/ogyeiv2/ogyeiv2/data.yaml'}}, 'localization': {}}\n"
     ]
    }
   ],
   "source": [
    "import json\n",
    "\n",
    "with open(\"datasets_configs.json\", \"r\") as file:\n",
    "    print(json.load(file))\n",
    "file.close()"
   ]
  }
 ],
 "metadata": {
  "kernelspec": {
   "display_name": "Python 3",
   "language": "python",
   "name": "python3"
  },
  "language_info": {
   "codemirror_mode": {
    "name": "ipython",
    "version": 3
   },
   "file_extension": ".py",
   "mimetype": "text/x-python",
   "name": "python",
   "nbconvert_exporter": "python",
   "pygments_lexer": "ipython3",
   "version": "3.11.12"
  }
 },
 "nbformat": 4,
 "nbformat_minor": 5
}
