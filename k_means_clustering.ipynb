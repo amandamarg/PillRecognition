{
 "cells": [
  {
   "cell_type": "code",
   "execution_count": 1,
   "id": "626da9f5",
   "metadata": {},
   "outputs": [],
   "source": [
    "import os\n",
    "import pandas as pd\n",
    "import torch\n",
    "from torch.utils.data import Dataset\n",
    "from torchvision.transforms import ToTensor\n",
    "import matplotlib.pyplot as plt\n",
    "from torchvision.io import decode_image\n",
    "from imageio.v2 import imread\n",
    "import pandas as pd\n",
    "import json\n",
    "import requests as r\n",
    "import os\n",
    "\n",
    "\n",
    "class PillDataset(Dataset):\n",
    "    def __init__(self, image_paths, labels, transform=None, target_transform=None):\n",
    "        self.img_paths = image_paths\n",
    "        self.labels = labels\n",
    "        self.transform = transform\n",
    "        self.target_transform = target_transform\n",
    "\n",
    "    def __len__(self):\n",
    "        return len(self.labels)\n",
    "\n",
    "    def __getitem__(self, idx):\n",
    "        image_path = (self.img_paths.iloc[idx])\n",
    "        # image = decode_image(image_path)\n",
    "        # image = Image.open(image_path)\n",
    "        image = imread(image_path)\n",
    "        label = self.labels.iloc[idx]\n",
    "        if self.transform:\n",
    "            image = self.transform(image)\n",
    "        if self.target_transform:\n",
    "            label = self.target_transform(label)\n",
    "        return image, label"
   ]
  },
  {
   "cell_type": "code",
   "execution_count": 3,
   "id": "c4f5de34",
   "metadata": {},
   "outputs": [],
   "source": [
    "def zeroPadFront(x, desiredLength):\n",
    "    x = str(x)\n",
    "    while len(x) < desiredLength:\n",
    "        x = '0' + x\n",
    "    return x\n",
    "\n",
    "all_labels = pd.read_csv(\"./datasets/ePillID_data/all_labels.csv\")\n",
    "codes = all_labels.apply(lambda x: zeroPadFront(x['label_code_id'], 4) + '-' + zeroPadFront(x['prod_code_id'], 4), axis=1)\n",
    "all_labels['NDC'] = codes\n",
    "\n",
    "numeric_labels = all_labels['NDC'].map(lambda x: codes.index[codes == x][0])\n",
    "image_paths = all_labels['image_path'].map(lambda x: './datasets/ePillID_data/classification_data/' + x)\n",
    "segmented_mask = all_labels['image_path'].str.startswith('segmented_nih_pills_224')\n",
    "\n",
    "epillid = PillDataset(image_paths[segmented_mask], numeric_labels[segmented_mask])\n"
   ]
  },
  {
   "cell_type": "code",
   "execution_count": 4,
   "id": "4adec5af",
   "metadata": {},
   "outputs": [],
   "source": [
    "from sklearn.model_selection import train_test_split\n",
    "\n",
    "segmented_image_paths = image_paths[segmented_mask]\n",
    "segmented_numeric_labels = numeric_labels[segmented_mask]\n",
    "\n",
    "x_train, x_test, y_train, y_test = train_test_split(segmented_image_paths, segmented_numeric_labels, test_size=.2, random_state=42)\n",
    "\n",
    "train_data = PillDataset(x_train, y_train)\n",
    "test_data = PillDataset(x_test, y_test)\n"
   ]
  },
  {
   "cell_type": "code",
   "execution_count": 5,
   "id": "56aec7d2",
   "metadata": {},
   "outputs": [],
   "source": [
    "from torch.utils.data import DataLoader\n",
    "\n",
    "train_dataloader = DataLoader(train_data, batch_size=64, shuffle=True)\n",
    "test_dataloader = DataLoader(test_data, batch_size=64, shuffle=True)"
   ]
  },
  {
   "cell_type": "code",
   "execution_count": null,
   "id": "54178dbc",
   "metadata": {},
   "outputs": [],
   "source": [
    "from torchvision.models import resnet50, ResNet50_Weights\n",
    "\n",
    "model = resnet50(weights=ResNet50_Weights.DEFAULT)\n"
   ]
  },
  {
   "cell_type": "code",
   "execution_count": null,
   "id": "a868c5eb",
   "metadata": {},
   "outputs": [],
   "source": [
    "import numpy as np\n",
    "\n",
    "imgs = x_train.map(imread).reset_index()\n",
    "imgs.rename(columns={'image_path':'image'}, inplace=True)\n",
    "\n",
    "im = np.stack(imgs['image'])\n",
    "n,h,w,c = im.shape\n",
    "mean = np.mean(im, axis=(0,1,2))\n",
    "torch.tensor((im - mean).reshape(n, h*w,3))"
   ]
  }
 ],
 "metadata": {
  "kernelspec": {
   "display_name": "Python 3",
   "language": "python",
   "name": "python3"
  },
  "language_info": {
   "codemirror_mode": {
    "name": "ipython",
    "version": 3
   },
   "file_extension": ".py",
   "mimetype": "text/x-python",
   "name": "python",
   "nbconvert_exporter": "python",
   "pygments_lexer": "ipython3",
   "version": "3.11.13"
  }
 },
 "nbformat": 4,
 "nbformat_minor": 5
}
