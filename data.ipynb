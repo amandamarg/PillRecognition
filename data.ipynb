{
 "cells": [
  {
   "cell_type": "code",
   "execution_count": 146,
   "id": "ba83dcb7",
   "metadata": {},
   "outputs": [],
   "source": [
    "import pandas as pd\n",
    "import json\n",
    "\n",
    "all_labels = pd.read_csv(\"./datasets/ePillID_data/all_labels.csv\")\n",
    "with open('./drug/ndc/drug-ndc-0001-of-0001.json', 'r') as file:\n",
    "    data = json.loads(file.read())\n",
    "file.close()\n",
    "df = pd.DataFrame(data['results'])\n",
    "\n",
    "#filter out anything that isn't a tablet or capsule\n",
    "pills = df[df['dosage_form'].str.contains('TABLET') | df['dosage_form'].str.contains('CAPSULE')]\n",
    "\n",
    "#filter out anything that isn't for humans\n",
    "pills = pills[pills['product_type'].str.contains('HUMAN')]\n",
    "\n",
    "#pillbox retired on date Jan. 29 2021 as per https://www.nlm.nih.gov/pubs/techbull/ja20/ja20_pillbox_discontinue.html\n",
    "pillbox_retirement = 20210129\n",
    "x=pills[\"product_ndc\"].str.split(\"-\", expand=True).astype(int).rename(columns={0:\"label_code_id\", 1: \"prod_code_id\"}).join(pills[\"marketing_start_date\"])\n",
    "merged = pd.merge(x, all_labels.get([\"label_code_id\", \"prod_code_id\"]), on=[\"label_code_id\", \"prod_code_id\"], how=\"outer\", indicator=True)\n",
    "ndc_not_in_dataset = merged[merged['_merge'] == \"left_only\"].drop_duplicates()\n"
   ]
  },
  {
   "cell_type": "code",
   "execution_count": null,
   "id": "c5884648",
   "metadata": {},
   "outputs": [
    {
     "data": {
      "application/vnd.microsoft.datawrangler.viewer.v0+json": {
       "columns": [
        {
         "name": "index",
         "rawType": "int64",
         "type": "integer"
        },
        {
         "name": "label",
         "rawType": "object",
         "type": "string"
        }
       ],
       "ref": "1eb680c2-c846-48e1-a53e-f332e9ab152d",
       "rows": [
        [
         "0",
         "51285-0092-87_BE305F72"
        ],
        [
         "1",
         "00093-0148-01_4629A34D"
        ],
        [
         "2",
         "00093-7248-06_7829BC3D"
        ],
        [
         "3",
         "00093-0928-06_6926B4E5"
        ],
        [
         "4",
         "50111-0459-01_1C300E70"
        ],
        [
         "5",
         "16252-0590-99_2B2015D0"
        ],
        [
         "6",
         "00093-7220-06_692934D9"
        ],
        [
         "7",
         "47335-0894-81_7F1DBFBD"
        ],
        [
         "8",
         "00093-5256-68_8727C3AE"
        ],
        [
         "9",
         "00093-7188-56_0323818C"
        ],
        [
         "10",
         "15456-0980-04_9418CA26"
        ],
        [
         "11",
         "00555-0572-35_1B2B8DCC"
        ],
        [
         "12",
         "60505-2671-09_AB1DD5AE"
        ],
        [
         "13",
         "00093-0028-01_6A29B54D"
        ],
        [
         "14",
         "00093-0892-01_A32B519A"
        ],
        [
         "15",
         "00172-5413-46_E923F4AF"
        ],
        [
         "16",
         "41616-0759-83_671DB3BD"
        ],
        [
         "17",
         "00378-3632-01_4B242591"
        ],
        [
         "18",
         "41616-0636-83_1A240D60"
        ],
        [
         "19",
         "64679-0936-03_7E05BF4D"
        ],
        [
         "20",
         "00781-5191-01_CD20E6B7"
        ],
        [
         "21",
         "59762-5024-01_4D26A6A5"
        ],
        [
         "22",
         "00603-6147-21_212190CC"
        ],
        [
         "23",
         "00143-9919-01_02230118"
        ],
        [
         "24",
         "50458-0579-30_8F1DC7FE"
        ],
        [
         "25",
         "16110-0075-01_D21FE93F"
        ],
        [
         "26",
         "00093-7168-98_4229A13D"
        ],
        [
         "27",
         "00555-0633-02_72303931"
        ],
        [
         "28",
         "63304-0553-05_D015681B"
        ],
        [
         "29",
         "00172-4096-60_B726DBE6"
        ],
        [
         "31",
         "00093-4069-01_E126F0B7"
        ],
        [
         "32",
         "25010-0205-15_E61FF35F"
        ],
        [
         "33",
         "00781-1452-01_D720EBF7"
        ],
        [
         "34",
         "00781-5185-01_8323C1DE"
        ],
        [
         "35",
         "00093-3195-01_BF295F9A"
        ],
        [
         "36",
         "00378-1811-01_5123A8BD"
        ],
        [
         "37",
         "00093-3160-06_FB297DFB"
        ],
        [
         "38",
         "68180-0479-01_B4215A0A"
        ],
        [
         "39",
         "00093-7425-56_D727EBFF"
        ],
        [
         "40",
         "00378-0505-01_652332F9"
        ],
        [
         "41",
         "00172-4097-60_532329F9"
        ],
        [
         "42",
         "67253-0902-10_AC15561A"
        ],
        [
         "43",
         "65862-0156-30_1E238F6C"
        ],
        [
         "44",
         "51285-0538-02_9F304FB2"
        ],
        [
         "45",
         "00093-1015-01_A929D4FE"
        ],
        [
         "46",
         "00093-7287-89_D22FE95F"
        ],
        [
         "47",
         "00093-2275-34_D82D6C1B"
        ],
        [
         "48",
         "00093-7242-06_76293B69"
        ],
        [
         "49",
         "00093-7292-53_781B3C09"
        ],
        [
         "50",
         "42043-0190-04_6D1DB6BD"
        ]
       ],
       "shape": {
        "columns": 1,
        "rows": 4902
       }
      },
      "text/plain": [
       "0                                   51285-0092-87_BE305F72\n",
       "1                                   00093-0148-01_4629A34D\n",
       "2                                   00093-7248-06_7829BC3D\n",
       "3                                   00093-0928-06_6926B4E5\n",
       "4                                   50111-0459-01_1C300E70\n",
       "                               ...                        \n",
       "13522    1ee933c3c14cc5f987d88b9bf853b8d932bf7efb24cc2c...\n",
       "13524    8682b81628ffb6203e45ffabbf6984fb85b47d65ee1045...\n",
       "13526    cd1524c3bce8a11f19e3b8cbc1b5391becd9a3c6833ff8...\n",
       "13528    6234bd92e8013b2eb1d2ead52a1034250c08228d194137...\n",
       "13530    bb28d4d9053e8f4e9cfea5df555bb90670a14d7f7f5bb9...\n",
       "Name: label, Length: 4902, dtype: object"
      ]
     },
     "execution_count": 145,
     "metadata": {},
     "output_type": "execute_result"
    }
   ],
   "source": [
    "all_labels.get([\"label_code_id\", \"prod_code_id\"]).drop_duplicates()\n",
    "all_labels[\"label\"].drop_duplicates()"
   ]
  },
  {
   "cell_type": "code",
   "execution_count": 129,
   "id": "51a3cfda",
   "metadata": {},
   "outputs": [
    {
     "data": {
      "application/vnd.microsoft.datawrangler.viewer.v0+json": {
       "columns": [
        {
         "name": "index",
         "rawType": "int64",
         "type": "integer"
        },
        {
         "name": "label_code_id",
         "rawType": "int64",
         "type": "integer"
        },
        {
         "name": "prod_code_id",
         "rawType": "int64",
         "type": "integer"
        },
        {
         "name": "marketing_start_date",
         "rawType": "object",
         "type": "string"
        },
        {
         "name": "_merge",
         "rawType": "category",
         "type": "unknown"
        }
       ],
       "ref": "7b44f49b-5ca2-4967-881d-7d1fbb9a46ec",
       "rows": [
        [
         "0",
         "2",
         "2980",
         "20200508",
         "left_only"
        ],
        [
         "1",
         "2",
         "3227",
         "20021126",
         "left_only"
        ],
        [
         "9",
         "2",
         "3230",
         "20070409",
         "left_only"
        ],
        [
         "10",
         "2",
         "3231",
         "20031224",
         "left_only"
        ],
        [
         "11",
         "2",
         "3235",
         "20040824",
         "left_only"
        ],
        [
         "20",
         "2",
         "3240",
         "20040824",
         "left_only"
        ],
        [
         "31",
         "2",
         "3977",
         "20200508",
         "left_only"
        ],
        [
         "32",
         "2",
         "4112",
         "19970623",
         "left_only"
        ],
        [
         "33",
         "2",
         "4115",
         "19961001",
         "left_only"
        ],
        [
         "34",
         "2",
         "4116",
         "19961001",
         "left_only"
        ],
        [
         "35",
         "2",
         "4117",
         "19961001",
         "left_only"
        ],
        [
         "36",
         "2",
         "4182",
         "20180531",
         "left_only"
        ],
        [
         "37",
         "2",
         "4184",
         "19980106",
         "left_only"
        ],
        [
         "38",
         "2",
         "4312",
         "20191011",
         "left_only"
        ],
        [
         "39",
         "2",
         "4415",
         "20000110",
         "left_only"
        ],
        [
         "40",
         "2",
         "4420",
         "20010301",
         "left_only"
        ],
        [
         "41",
         "2",
         "4453",
         "20000601",
         "left_only"
        ],
        [
         "42",
         "2",
         "4454",
         "20000601",
         "left_only"
        ],
        [
         "43",
         "2",
         "4455",
         "20010901",
         "left_only"
        ],
        [
         "44",
         "2",
         "4456",
         "20010901",
         "left_only"
        ],
        [
         "58",
         "2",
         "4465",
         "20080107",
         "left_only"
        ],
        [
         "59",
         "2",
         "4479",
         "20220510",
         "left_only"
        ],
        [
         "60",
         "2",
         "4483",
         "20170928",
         "left_only"
        ],
        [
         "61",
         "2",
         "4491",
         "20191011",
         "left_only"
        ],
        [
         "62",
         "2",
         "4732",
         "20191008",
         "left_only"
        ],
        [
         "63",
         "2",
         "4815",
         "20170928",
         "left_only"
        ],
        [
         "66",
         "2",
         "5337",
         "20170928",
         "left_only"
        ],
        [
         "67",
         "2",
         "5340",
         "20240410",
         "left_only"
        ],
        [
         "68",
         "2",
         "5562",
         "20240410",
         "left_only"
        ],
        [
         "69",
         "2",
         "6082",
         "20240410",
         "left_only"
        ],
        [
         "70",
         "2",
         "6120",
         "20240410",
         "left_only"
        ],
        [
         "71",
         "2",
         "6216",
         "20170928",
         "left_only"
        ],
        [
         "72",
         "2",
         "6885",
         "20211220",
         "left_only"
        ],
        [
         "73",
         "2",
         "6902",
         "20230127",
         "left_only"
        ],
        [
         "74",
         "2",
         "7026",
         "20230127",
         "left_only"
        ],
        [
         "75",
         "3",
         "50",
         "20240927",
         "left_only"
        ],
        [
         "76",
         "3",
         "125",
         "20240927",
         "left_only"
        ],
        [
         "77",
         "3",
         "524",
         "20060627",
         "left_only"
        ],
        [
         "78",
         "3",
         "527",
         "20060627",
         "left_only"
        ],
        [
         "79",
         "3",
         "528",
         "20060627",
         "left_only"
        ],
        [
         "80",
         "3",
         "852",
         "20080530",
         "left_only"
        ],
        [
         "81",
         "3",
         "855",
         "20101028",
         "left_only"
        ],
        [
         "82",
         "3",
         "857",
         "20101028",
         "left_only"
        ],
        [
         "83",
         "3",
         "893",
         "20121228",
         "left_only"
        ],
        [
         "84",
         "3",
         "894",
         "20121228",
         "left_only"
        ],
        [
         "85",
         "3",
         "895",
         "20220909",
         "left_only"
        ],
        [
         "86",
         "3",
         "1100",
         "20240927",
         "left_only"
        ],
        [
         "87",
         "3",
         "1611",
         "20050329",
         "left_only"
        ],
        [
         "88",
         "3",
         "1612",
         "20050329",
         "left_only"
        ],
        [
         "89",
         "3",
         "3622",
         "20030624",
         "left_only"
        ]
       ],
       "shape": {
        "columns": 4,
        "rows": 45313
       }
      },
      "text/html": [
       "<div>\n",
       "<style scoped>\n",
       "    .dataframe tbody tr th:only-of-type {\n",
       "        vertical-align: middle;\n",
       "    }\n",
       "\n",
       "    .dataframe tbody tr th {\n",
       "        vertical-align: top;\n",
       "    }\n",
       "\n",
       "    .dataframe thead th {\n",
       "        text-align: right;\n",
       "    }\n",
       "</style>\n",
       "<table border=\"1\" class=\"dataframe\">\n",
       "  <thead>\n",
       "    <tr style=\"text-align: right;\">\n",
       "      <th></th>\n",
       "      <th>label_code_id</th>\n",
       "      <th>prod_code_id</th>\n",
       "      <th>marketing_start_date</th>\n",
       "      <th>_merge</th>\n",
       "    </tr>\n",
       "  </thead>\n",
       "  <tbody>\n",
       "    <tr>\n",
       "      <th>0</th>\n",
       "      <td>2</td>\n",
       "      <td>2980</td>\n",
       "      <td>20200508</td>\n",
       "      <td>left_only</td>\n",
       "    </tr>\n",
       "    <tr>\n",
       "      <th>1</th>\n",
       "      <td>2</td>\n",
       "      <td>3227</td>\n",
       "      <td>20021126</td>\n",
       "      <td>left_only</td>\n",
       "    </tr>\n",
       "    <tr>\n",
       "      <th>9</th>\n",
       "      <td>2</td>\n",
       "      <td>3230</td>\n",
       "      <td>20070409</td>\n",
       "      <td>left_only</td>\n",
       "    </tr>\n",
       "    <tr>\n",
       "      <th>10</th>\n",
       "      <td>2</td>\n",
       "      <td>3231</td>\n",
       "      <td>20031224</td>\n",
       "      <td>left_only</td>\n",
       "    </tr>\n",
       "    <tr>\n",
       "      <th>11</th>\n",
       "      <td>2</td>\n",
       "      <td>3235</td>\n",
       "      <td>20040824</td>\n",
       "      <td>left_only</td>\n",
       "    </tr>\n",
       "    <tr>\n",
       "      <th>...</th>\n",
       "      <td>...</td>\n",
       "      <td>...</td>\n",
       "      <td>...</td>\n",
       "      <td>...</td>\n",
       "    </tr>\n",
       "    <tr>\n",
       "      <th>58874</th>\n",
       "      <td>90096</td>\n",
       "      <td>133</td>\n",
       "      <td>20220205</td>\n",
       "      <td>left_only</td>\n",
       "    </tr>\n",
       "    <tr>\n",
       "      <th>58875</th>\n",
       "      <td>90096</td>\n",
       "      <td>134</td>\n",
       "      <td>20220205</td>\n",
       "      <td>left_only</td>\n",
       "    </tr>\n",
       "    <tr>\n",
       "      <th>58876</th>\n",
       "      <td>90096</td>\n",
       "      <td>135</td>\n",
       "      <td>20220205</td>\n",
       "      <td>left_only</td>\n",
       "    </tr>\n",
       "    <tr>\n",
       "      <th>58877</th>\n",
       "      <td>90096</td>\n",
       "      <td>141</td>\n",
       "      <td>20221203</td>\n",
       "      <td>left_only</td>\n",
       "    </tr>\n",
       "    <tr>\n",
       "      <th>58891</th>\n",
       "      <td>99528</td>\n",
       "      <td>606</td>\n",
       "      <td>19860612</td>\n",
       "      <td>left_only</td>\n",
       "    </tr>\n",
       "  </tbody>\n",
       "</table>\n",
       "<p>45313 rows × 4 columns</p>\n",
       "</div>"
      ],
      "text/plain": [
       "       label_code_id  prod_code_id marketing_start_date     _merge\n",
       "0                  2          2980             20200508  left_only\n",
       "1                  2          3227             20021126  left_only\n",
       "9                  2          3230             20070409  left_only\n",
       "10                 2          3231             20031224  left_only\n",
       "11                 2          3235             20040824  left_only\n",
       "...              ...           ...                  ...        ...\n",
       "58874          90096           133             20220205  left_only\n",
       "58875          90096           134             20220205  left_only\n",
       "58876          90096           135             20220205  left_only\n",
       "58877          90096           141             20221203  left_only\n",
       "58891          99528           606             19860612  left_only\n",
       "\n",
       "[45313 rows x 4 columns]"
      ]
     },
     "execution_count": 129,
     "metadata": {},
     "output_type": "execute_result"
    }
   ],
   "source": [
    "merged[merged['_merge'] == \"left_only\"].drop_duplicates()"
   ]
  },
  {
   "cell_type": "code",
   "execution_count": 132,
   "id": "d7088550",
   "metadata": {},
   "outputs": [
    {
     "data": {
      "application/vnd.microsoft.datawrangler.viewer.v0+json": {
       "columns": [
        {
         "name": "index",
         "rawType": "int64",
         "type": "integer"
        },
        {
         "name": "label_code_id",
         "rawType": "int64",
         "type": "integer"
        },
        {
         "name": "prod_code_id",
         "rawType": "int64",
         "type": "integer"
        },
        {
         "name": "marketing_start_date",
         "rawType": "object",
         "type": "string"
        },
        {
         "name": "_merge",
         "rawType": "category",
         "type": "unknown"
        }
       ],
       "ref": "34569496-42c5-45ab-a7df-97bd79993a48",
       "rows": [
        [
         "2",
         "2",
         "3228",
         "20021126",
         "both"
        ],
        [
         "5",
         "2",
         "3229",
         "20021126",
         "both"
        ],
        [
         "12",
         "2",
         "3238",
         "20021126",
         "both"
        ],
        [
         "16",
         "2",
         "3239",
         "20021126",
         "both"
        ],
        [
         "21",
         "2",
         "3250",
         "20050214",
         "both"
        ],
        [
         "25",
         "2",
         "3251",
         "20050214",
         "both"
        ],
        [
         "29",
         "2",
         "3270",
         "20100115",
         "both"
        ],
        [
         "45",
         "2",
         "4462",
         "20031126",
         "both"
        ],
        [
         "47",
         "2",
         "4463",
         "20031126",
         "both"
        ],
        [
         "53",
         "2",
         "4464",
         "20031126",
         "both"
        ],
        [
         "104",
         "4",
         "259",
         "19950503",
         "both"
        ],
        [
         "107",
         "4",
         "800",
         "19991027",
         "both"
        ],
        [
         "115",
         "4",
         "802",
         "19991027",
         "both"
        ],
        [
         "123",
         "6",
         "80",
         "20120202",
         "both"
        ],
        [
         "125",
         "6",
         "81",
         "20120202",
         "both"
        ],
        [
         "127",
         "6",
         "112",
         "20061016",
         "both"
        ],
        [
         "133",
         "6",
         "221",
         "20061016",
         "both"
        ],
        [
         "136",
         "6",
         "277",
         "20061016",
         "both"
        ],
        [
         "151",
         "6",
         "575",
         "20070330",
         "both"
        ],
        [
         "153",
         "6",
         "577",
         "20070330",
         "both"
        ],
        [
         "236",
         "8",
         "836",
         "19971101",
         "both"
        ],
        [
         "246",
         "8",
         "1222",
         "20080501",
         "both"
        ],
        [
         "257",
         "9",
         "55",
         "19811016",
         "both"
        ],
        [
         "269",
         "9",
         "331",
         "19700522",
         "both"
        ],
        [
         "279",
         "9",
         "7663",
         "19991021",
         "both"
        ],
        [
         "288",
         "13",
         "5301",
         "19921223",
         "both"
        ],
        [
         "324",
         "25",
         "1411",
         "19971224",
         "both"
        ],
        [
         "326",
         "25",
         "1421",
         "19971224",
         "both"
        ],
        [
         "360",
         "32",
         "1206",
         "20090430",
         "both"
        ],
        [
         "362",
         "32",
         "1212",
         "20090430",
         "both"
        ],
        [
         "364",
         "32",
         "1224",
         "20090430",
         "both"
        ],
        [
         "370",
         "32",
         "3016",
         "20130314",
         "both"
        ],
        [
         "375",
         "37",
         "2250",
         "20070908",
         "both"
        ],
        [
         "393",
         "46",
         "1102",
         "20060101",
         "both"
        ],
        [
         "396",
         "46",
         "1104",
         "20040901",
         "both"
        ],
        [
         "410",
         "49",
         "2330",
         "20021226",
         "both"
        ],
        [
         "412",
         "49",
         "2340",
         "20021226",
         "both"
        ],
        [
         "425",
         "49",
         "4910",
         "19920211",
         "both"
        ],
        [
         "428",
         "54",
         "7",
         "20060327",
         "both"
        ],
        [
         "433",
         "54",
         "17",
         "20030213",
         "both"
        ],
        [
         "441",
         "54",
         "21",
         "20041028",
         "both"
        ],
        [
         "450",
         "54",
         "77",
         "20050303",
         "both"
        ],
        [
         "452",
         "54",
         "79",
         "20071228",
         "both"
        ],
        [
         "464",
         "54",
         "108",
         "20080618",
         "both"
        ],
        [
         "466",
         "54",
         "109",
         "20080618",
         "both"
        ],
        [
         "479",
         "54",
         "166",
         "20080729",
         "both"
        ],
        [
         "501",
         "54",
         "254",
         "20121015",
         "both"
        ],
        [
         "503",
         "54",
         "255",
         "20121015",
         "both"
        ],
        [
         "512",
         "54",
         "279",
         "20100707",
         "both"
        ],
        [
         "518",
         "54",
         "334",
         "20130708",
         "both"
        ]
       ],
       "shape": {
        "columns": 4,
        "rows": 1372
       }
      },
      "text/html": [
       "<div>\n",
       "<style scoped>\n",
       "    .dataframe tbody tr th:only-of-type {\n",
       "        vertical-align: middle;\n",
       "    }\n",
       "\n",
       "    .dataframe tbody tr th {\n",
       "        vertical-align: top;\n",
       "    }\n",
       "\n",
       "    .dataframe thead th {\n",
       "        text-align: right;\n",
       "    }\n",
       "</style>\n",
       "<table border=\"1\" class=\"dataframe\">\n",
       "  <thead>\n",
       "    <tr style=\"text-align: right;\">\n",
       "      <th></th>\n",
       "      <th>label_code_id</th>\n",
       "      <th>prod_code_id</th>\n",
       "      <th>marketing_start_date</th>\n",
       "      <th>_merge</th>\n",
       "    </tr>\n",
       "  </thead>\n",
       "  <tbody>\n",
       "    <tr>\n",
       "      <th>2</th>\n",
       "      <td>2</td>\n",
       "      <td>3228</td>\n",
       "      <td>20021126</td>\n",
       "      <td>both</td>\n",
       "    </tr>\n",
       "    <tr>\n",
       "      <th>5</th>\n",
       "      <td>2</td>\n",
       "      <td>3229</td>\n",
       "      <td>20021126</td>\n",
       "      <td>both</td>\n",
       "    </tr>\n",
       "    <tr>\n",
       "      <th>12</th>\n",
       "      <td>2</td>\n",
       "      <td>3238</td>\n",
       "      <td>20021126</td>\n",
       "      <td>both</td>\n",
       "    </tr>\n",
       "    <tr>\n",
       "      <th>16</th>\n",
       "      <td>2</td>\n",
       "      <td>3239</td>\n",
       "      <td>20021126</td>\n",
       "      <td>both</td>\n",
       "    </tr>\n",
       "    <tr>\n",
       "      <th>21</th>\n",
       "      <td>2</td>\n",
       "      <td>3250</td>\n",
       "      <td>20050214</td>\n",
       "      <td>both</td>\n",
       "    </tr>\n",
       "    <tr>\n",
       "      <th>...</th>\n",
       "      <td>...</td>\n",
       "      <td>...</td>\n",
       "      <td>...</td>\n",
       "      <td>...</td>\n",
       "    </tr>\n",
       "    <tr>\n",
       "      <th>45164</th>\n",
       "      <td>69238</td>\n",
       "      <td>1251</td>\n",
       "      <td>20141001</td>\n",
       "      <td>both</td>\n",
       "    </tr>\n",
       "    <tr>\n",
       "      <th>45381</th>\n",
       "      <td>69315</td>\n",
       "      <td>136</td>\n",
       "      <td>20121128</td>\n",
       "      <td>both</td>\n",
       "    </tr>\n",
       "    <tr>\n",
       "      <th>55756</th>\n",
       "      <td>75826</td>\n",
       "      <td>114</td>\n",
       "      <td>20151223</td>\n",
       "      <td>both</td>\n",
       "    </tr>\n",
       "    <tr>\n",
       "      <th>55951</th>\n",
       "      <td>75987</td>\n",
       "      <td>10</td>\n",
       "      <td>20111205</td>\n",
       "      <td>both</td>\n",
       "    </tr>\n",
       "    <tr>\n",
       "      <th>56117</th>\n",
       "      <td>76282</td>\n",
       "      <td>377</td>\n",
       "      <td>20140414</td>\n",
       "      <td>both</td>\n",
       "    </tr>\n",
       "  </tbody>\n",
       "</table>\n",
       "<p>1372 rows × 4 columns</p>\n",
       "</div>"
      ],
      "text/plain": [
       "       label_code_id  prod_code_id marketing_start_date _merge\n",
       "2                  2          3228             20021126   both\n",
       "5                  2          3229             20021126   both\n",
       "12                 2          3238             20021126   both\n",
       "16                 2          3239             20021126   both\n",
       "21                 2          3250             20050214   both\n",
       "...              ...           ...                  ...    ...\n",
       "45164          69238          1251             20141001   both\n",
       "45381          69315           136             20121128   both\n",
       "55756          75826           114             20151223   both\n",
       "55951          75987            10             20111205   both\n",
       "56117          76282           377             20140414   both\n",
       "\n",
       "[1372 rows x 4 columns]"
      ]
     },
     "execution_count": 132,
     "metadata": {},
     "output_type": "execute_result"
    }
   ],
   "source": [
    "merged[merged['_merge'] == \"both\"].drop_duplicates()"
   ]
  },
  {
   "cell_type": "code",
   "execution_count": 38,
   "id": "345ad160",
   "metadata": {},
   "outputs": [
    {
     "data": {
      "application/vnd.microsoft.datawrangler.viewer.v0+json": {
       "columns": [
        {
         "name": "index",
         "rawType": "int64",
         "type": "integer"
        },
        {
         "name": "label_code_id",
         "rawType": "int64",
         "type": "integer"
        },
        {
         "name": "prod_code_id",
         "rawType": "int64",
         "type": "integer"
        },
        {
         "name": "marketing_start_date",
         "rawType": "object",
         "type": "unknown"
        },
        {
         "name": "_merge",
         "rawType": "category",
         "type": "unknown"
        }
       ],
       "ref": "1184dadb-3cb1-44ef-9a6b-766a4cedeebe",
       "rows": [
        [
         "64",
         "2",
         "5123",
         null,
         "right_only"
        ],
        [
         "94",
         "3",
         "4222",
         null,
         "right_only"
        ],
        [
         "155",
         "6",
         "717",
         null,
         "right_only"
        ],
        [
         "157",
         "6",
         "747",
         null,
         "right_only"
        ],
        [
         "159",
         "6",
         "749",
         null,
         "right_only"
        ],
        [
         "164",
         "6",
         "960",
         null,
         "right_only"
        ],
        [
         "171",
         "6",
         "3916",
         null,
         "right_only"
        ],
        [
         "187",
         "6",
         "9117",
         null,
         "right_only"
        ],
        [
         "189",
         "7",
         "3650",
         null,
         "right_only"
        ],
        [
         "191",
         "7",
         "4141",
         null,
         "right_only"
        ],
        [
         "193",
         "7",
         "4471",
         null,
         "right_only"
        ],
        [
         "196",
         "7",
         "4640",
         null,
         "right_only"
        ],
        [
         "198",
         "7",
         "4641",
         null,
         "right_only"
        ],
        [
         "200",
         "7",
         "4642",
         null,
         "right_only"
        ],
        [
         "204",
         "7",
         "4882",
         null,
         "right_only"
        ],
        [
         "211",
         "7",
         "4883",
         null,
         "right_only"
        ],
        [
         "213",
         "7",
         "4885",
         null,
         "right_only"
        ],
        [
         "215",
         "7",
         "4887",
         null,
         "right_only"
        ],
        [
         "217",
         "7",
         "4888",
         null,
         "right_only"
        ],
        [
         "219",
         "7",
         "4890",
         null,
         "right_only"
        ],
        [
         "221",
         "7",
         "4891",
         null,
         "right_only"
        ],
        [
         "223",
         "7",
         "4892",
         null,
         "right_only"
        ],
        [
         "227",
         "7",
         "4893",
         null,
         "right_only"
        ],
        [
         "229",
         "7",
         "4894",
         null,
         "right_only"
        ],
        [
         "231",
         "7",
         "4895",
         null,
         "right_only"
        ],
        [
         "233",
         "7",
         "4896",
         null,
         "right_only"
        ],
        [
         "274",
         "9",
         "5012",
         null,
         "right_only"
        ],
        [
         "277",
         "9",
         "5190",
         null,
         "right_only"
        ],
        [
         "295",
         "23",
         "9350",
         null,
         "right_only"
        ],
        [
         "319",
         "25",
         "1021",
         null,
         "right_only"
        ],
        [
         "334",
         "25",
         "1891",
         null,
         "right_only"
        ],
        [
         "341",
         "29",
         "3159",
         null,
         "right_only"
        ],
        [
         "366",
         "32",
         "1708",
         null,
         "right_only"
        ],
        [
         "387",
         "39",
         "60",
         null,
         "right_only"
        ],
        [
         "389",
         "39",
         "67",
         null,
         "right_only"
        ],
        [
         "422",
         "49",
         "3960",
         null,
         "right_only"
        ],
        [
         "444",
         "54",
         "36",
         null,
         "right_only"
        ],
        [
         "446",
         "54",
         "37",
         null,
         "right_only"
        ],
        [
         "448",
         "54",
         "44",
         null,
         "right_only"
        ],
        [
         "458",
         "54",
         "97",
         null,
         "right_only"
        ],
        [
         "460",
         "54",
         "99",
         null,
         "right_only"
        ],
        [
         "471",
         "54",
         "111",
         null,
         "right_only"
        ],
        [
         "473",
         "54",
         "112",
         null,
         "right_only"
        ],
        [
         "487",
         "54",
         "198",
         null,
         "right_only"
        ],
        [
         "505",
         "54",
         "269",
         null,
         "right_only"
        ],
        [
         "516",
         "54",
         "289",
         null,
         "right_only"
        ],
        [
         "520",
         "54",
         "348",
         null,
         "right_only"
        ],
        [
         "546",
         "54",
         "545",
         null,
         "right_only"
        ],
        [
         "628",
         "56",
         "169",
         null,
         "right_only"
        ],
        [
         "630",
         "56",
         "170",
         null,
         "right_only"
        ]
       ],
       "shape": {
        "columns": 4,
        "rows": 3454
       }
      },
      "text/html": [
       "<div>\n",
       "<style scoped>\n",
       "    .dataframe tbody tr th:only-of-type {\n",
       "        vertical-align: middle;\n",
       "    }\n",
       "\n",
       "    .dataframe tbody tr th {\n",
       "        vertical-align: top;\n",
       "    }\n",
       "\n",
       "    .dataframe thead th {\n",
       "        text-align: right;\n",
       "    }\n",
       "</style>\n",
       "<table border=\"1\" class=\"dataframe\">\n",
       "  <thead>\n",
       "    <tr style=\"text-align: right;\">\n",
       "      <th></th>\n",
       "      <th>label_code_id</th>\n",
       "      <th>prod_code_id</th>\n",
       "      <th>marketing_start_date</th>\n",
       "      <th>_merge</th>\n",
       "    </tr>\n",
       "  </thead>\n",
       "  <tbody>\n",
       "    <tr>\n",
       "      <th>64</th>\n",
       "      <td>2</td>\n",
       "      <td>5123</td>\n",
       "      <td>NaN</td>\n",
       "      <td>right_only</td>\n",
       "    </tr>\n",
       "    <tr>\n",
       "      <th>94</th>\n",
       "      <td>3</td>\n",
       "      <td>4222</td>\n",
       "      <td>NaN</td>\n",
       "      <td>right_only</td>\n",
       "    </tr>\n",
       "    <tr>\n",
       "      <th>155</th>\n",
       "      <td>6</td>\n",
       "      <td>717</td>\n",
       "      <td>NaN</td>\n",
       "      <td>right_only</td>\n",
       "    </tr>\n",
       "    <tr>\n",
       "      <th>157</th>\n",
       "      <td>6</td>\n",
       "      <td>747</td>\n",
       "      <td>NaN</td>\n",
       "      <td>right_only</td>\n",
       "    </tr>\n",
       "    <tr>\n",
       "      <th>159</th>\n",
       "      <td>6</td>\n",
       "      <td>749</td>\n",
       "      <td>NaN</td>\n",
       "      <td>right_only</td>\n",
       "    </tr>\n",
       "    <tr>\n",
       "      <th>...</th>\n",
       "      <td>...</td>\n",
       "      <td>...</td>\n",
       "      <td>...</td>\n",
       "      <td>...</td>\n",
       "    </tr>\n",
       "    <tr>\n",
       "      <th>56710</th>\n",
       "      <td>76519</td>\n",
       "      <td>1004</td>\n",
       "      <td>NaN</td>\n",
       "      <td>right_only</td>\n",
       "    </tr>\n",
       "    <tr>\n",
       "      <th>58878</th>\n",
       "      <td>99207</td>\n",
       "      <td>461</td>\n",
       "      <td>NaN</td>\n",
       "      <td>right_only</td>\n",
       "    </tr>\n",
       "    <tr>\n",
       "      <th>58882</th>\n",
       "      <td>99207</td>\n",
       "      <td>463</td>\n",
       "      <td>NaN</td>\n",
       "      <td>right_only</td>\n",
       "    </tr>\n",
       "    <tr>\n",
       "      <th>58884</th>\n",
       "      <td>99207</td>\n",
       "      <td>465</td>\n",
       "      <td>NaN</td>\n",
       "      <td>right_only</td>\n",
       "    </tr>\n",
       "    <tr>\n",
       "      <th>58886</th>\n",
       "      <td>99207</td>\n",
       "      <td>467</td>\n",
       "      <td>NaN</td>\n",
       "      <td>right_only</td>\n",
       "    </tr>\n",
       "  </tbody>\n",
       "</table>\n",
       "<p>3454 rows × 4 columns</p>\n",
       "</div>"
      ],
      "text/plain": [
       "       label_code_id  prod_code_id marketing_start_date      _merge\n",
       "64                 2          5123                  NaN  right_only\n",
       "94                 3          4222                  NaN  right_only\n",
       "155                6           717                  NaN  right_only\n",
       "157                6           747                  NaN  right_only\n",
       "159                6           749                  NaN  right_only\n",
       "...              ...           ...                  ...         ...\n",
       "56710          76519          1004                  NaN  right_only\n",
       "58878          99207           461                  NaN  right_only\n",
       "58882          99207           463                  NaN  right_only\n",
       "58884          99207           465                  NaN  right_only\n",
       "58886          99207           467                  NaN  right_only\n",
       "\n",
       "[3454 rows x 4 columns]"
      ]
     },
     "execution_count": 38,
     "metadata": {},
     "output_type": "execute_result"
    }
   ],
   "source": [
    "merged[merged['_merge'] == \"right_only\"].drop_duplicates()"
   ]
  },
  {
   "cell_type": "code",
   "execution_count": 42,
   "id": "2eb76547",
   "metadata": {},
   "outputs": [],
   "source": [
    "from download import downloadZip\n",
    "\n",
    "downloadZip(\"https://www.accessdata.fda.gov/cder/ndc_excluded.zip\", \"./excluded_drugs/\")"
   ]
  },
  {
   "cell_type": "code",
   "execution_count": 47,
   "id": "0c0690a9",
   "metadata": {},
   "outputs": [
    {
     "name": "stdout",
     "output_type": "stream",
     "text": [
      "{'encoding': 'Windows-1252', 'confidence': 0.7299955242656871, 'language': ''}\n"
     ]
    }
   ],
   "source": [
    "import chardet\n",
    "\n",
    "with open(\"/Users/Amanda/Desktop/PillRecognition/excluded_drugs/Products_excluded.xls\", \"rb\") as file:\n",
    "    print(chardet.detect(file.read()))\n",
    "file.close()"
   ]
  },
  {
   "cell_type": "code",
   "execution_count": null,
   "id": "888866d8",
   "metadata": {},
   "outputs": [
    {
     "name": "stderr",
     "output_type": "stream",
     "text": [
      "This pattern is interpreted as a regular expression, and has match groups. To actually get the groups, use str.extract.\n"
     ]
    },
    {
     "data": {
      "application/vnd.microsoft.datawrangler.viewer.v0+json": {
       "columns": [
        {
         "name": "index",
         "rawType": "int64",
         "type": "integer"
        },
        {
         "name": "label_code_id",
         "rawType": "int64",
         "type": "integer"
        },
        {
         "name": "prod_code_id",
         "rawType": "int64",
         "type": "integer"
        },
        {
         "name": "_merge",
         "rawType": "category",
         "type": "unknown"
        }
       ],
       "ref": "8d567fac-2e44-4321-b74d-0227c043080c",
       "rows": [
        [
         "4191",
         "149",
         "7",
         "left_only"
        ],
        [
         "4534",
         "173",
         "758",
         "left_only"
        ],
        [
         "4535",
         "173",
         "759",
         "left_only"
        ],
        [
         "4536",
         "173",
         "760",
         "left_only"
        ],
        [
         "11629",
         "555",
         "9008",
         "left_only"
        ],
        [
         "11630",
         "555",
         "9010",
         "left_only"
        ],
        [
         "11632",
         "555",
         "9012",
         "left_only"
        ],
        [
         "11634",
         "555",
         "9014",
         "left_only"
        ],
        [
         "11635",
         "555",
         "9016",
         "left_only"
        ],
        [
         "11637",
         "555",
         "9026",
         "left_only"
        ],
        [
         "11638",
         "555",
         "9028",
         "left_only"
        ],
        [
         "11639",
         "555",
         "9032",
         "left_only"
        ],
        [
         "11640",
         "555",
         "9034",
         "left_only"
        ],
        [
         "11807",
         "591",
         "302",
         "left_only"
        ],
        [
         "22468",
         "13668",
         "280",
         "left_only"
        ],
        [
         "22469",
         "13668",
         "281",
         "left_only"
        ],
        [
         "24177",
         "15456",
         "980",
         "left_only"
        ],
        [
         "48315",
         "44946",
         "1008",
         "left_only"
        ],
        [
         "48316",
         "44946",
         "1009",
         "left_only"
        ],
        [
         "48317",
         "44946",
         "1010",
         "left_only"
        ],
        [
         "56396",
         "49884",
         "652",
         "left_only"
        ],
        [
         "56397",
         "49884",
         "653",
         "left_only"
        ],
        [
         "58106",
         "50090",
         "840",
         "left_only"
        ],
        [
         "58470",
         "50090",
         "1462",
         "left_only"
        ],
        [
         "73897",
         "53014",
         "404",
         "left_only"
        ],
        [
         "107604",
         "62037",
         "793",
         "left_only"
        ],
        [
         "111884",
         "63044",
         "622",
         "left_only"
        ],
        [
         "121319",
         "65084",
         "460",
         "left_only"
        ]
       ],
       "shape": {
        "columns": 3,
        "rows": 28
       }
      },
      "text/html": [
       "<div>\n",
       "<style scoped>\n",
       "    .dataframe tbody tr th:only-of-type {\n",
       "        vertical-align: middle;\n",
       "    }\n",
       "\n",
       "    .dataframe tbody tr th {\n",
       "        vertical-align: top;\n",
       "    }\n",
       "\n",
       "    .dataframe thead th {\n",
       "        text-align: right;\n",
       "    }\n",
       "</style>\n",
       "<table border=\"1\" class=\"dataframe\">\n",
       "  <thead>\n",
       "    <tr style=\"text-align: right;\">\n",
       "      <th></th>\n",
       "      <th>label_code_id</th>\n",
       "      <th>prod_code_id</th>\n",
       "      <th>_merge</th>\n",
       "    </tr>\n",
       "  </thead>\n",
       "  <tbody>\n",
       "    <tr>\n",
       "      <th>4191</th>\n",
       "      <td>149</td>\n",
       "      <td>7</td>\n",
       "      <td>left_only</td>\n",
       "    </tr>\n",
       "    <tr>\n",
       "      <th>4534</th>\n",
       "      <td>173</td>\n",
       "      <td>758</td>\n",
       "      <td>left_only</td>\n",
       "    </tr>\n",
       "    <tr>\n",
       "      <th>4535</th>\n",
       "      <td>173</td>\n",
       "      <td>759</td>\n",
       "      <td>left_only</td>\n",
       "    </tr>\n",
       "    <tr>\n",
       "      <th>4536</th>\n",
       "      <td>173</td>\n",
       "      <td>760</td>\n",
       "      <td>left_only</td>\n",
       "    </tr>\n",
       "    <tr>\n",
       "      <th>11629</th>\n",
       "      <td>555</td>\n",
       "      <td>9008</td>\n",
       "      <td>left_only</td>\n",
       "    </tr>\n",
       "    <tr>\n",
       "      <th>11630</th>\n",
       "      <td>555</td>\n",
       "      <td>9010</td>\n",
       "      <td>left_only</td>\n",
       "    </tr>\n",
       "    <tr>\n",
       "      <th>11632</th>\n",
       "      <td>555</td>\n",
       "      <td>9012</td>\n",
       "      <td>left_only</td>\n",
       "    </tr>\n",
       "    <tr>\n",
       "      <th>11634</th>\n",
       "      <td>555</td>\n",
       "      <td>9014</td>\n",
       "      <td>left_only</td>\n",
       "    </tr>\n",
       "    <tr>\n",
       "      <th>11635</th>\n",
       "      <td>555</td>\n",
       "      <td>9016</td>\n",
       "      <td>left_only</td>\n",
       "    </tr>\n",
       "    <tr>\n",
       "      <th>11637</th>\n",
       "      <td>555</td>\n",
       "      <td>9026</td>\n",
       "      <td>left_only</td>\n",
       "    </tr>\n",
       "    <tr>\n",
       "      <th>11638</th>\n",
       "      <td>555</td>\n",
       "      <td>9028</td>\n",
       "      <td>left_only</td>\n",
       "    </tr>\n",
       "    <tr>\n",
       "      <th>11639</th>\n",
       "      <td>555</td>\n",
       "      <td>9032</td>\n",
       "      <td>left_only</td>\n",
       "    </tr>\n",
       "    <tr>\n",
       "      <th>11640</th>\n",
       "      <td>555</td>\n",
       "      <td>9034</td>\n",
       "      <td>left_only</td>\n",
       "    </tr>\n",
       "    <tr>\n",
       "      <th>11807</th>\n",
       "      <td>591</td>\n",
       "      <td>302</td>\n",
       "      <td>left_only</td>\n",
       "    </tr>\n",
       "    <tr>\n",
       "      <th>22468</th>\n",
       "      <td>13668</td>\n",
       "      <td>280</td>\n",
       "      <td>left_only</td>\n",
       "    </tr>\n",
       "    <tr>\n",
       "      <th>22469</th>\n",
       "      <td>13668</td>\n",
       "      <td>281</td>\n",
       "      <td>left_only</td>\n",
       "    </tr>\n",
       "    <tr>\n",
       "      <th>24177</th>\n",
       "      <td>15456</td>\n",
       "      <td>980</td>\n",
       "      <td>left_only</td>\n",
       "    </tr>\n",
       "    <tr>\n",
       "      <th>48315</th>\n",
       "      <td>44946</td>\n",
       "      <td>1008</td>\n",
       "      <td>left_only</td>\n",
       "    </tr>\n",
       "    <tr>\n",
       "      <th>48316</th>\n",
       "      <td>44946</td>\n",
       "      <td>1009</td>\n",
       "      <td>left_only</td>\n",
       "    </tr>\n",
       "    <tr>\n",
       "      <th>48317</th>\n",
       "      <td>44946</td>\n",
       "      <td>1010</td>\n",
       "      <td>left_only</td>\n",
       "    </tr>\n",
       "    <tr>\n",
       "      <th>56396</th>\n",
       "      <td>49884</td>\n",
       "      <td>652</td>\n",
       "      <td>left_only</td>\n",
       "    </tr>\n",
       "    <tr>\n",
       "      <th>56397</th>\n",
       "      <td>49884</td>\n",
       "      <td>653</td>\n",
       "      <td>left_only</td>\n",
       "    </tr>\n",
       "    <tr>\n",
       "      <th>58106</th>\n",
       "      <td>50090</td>\n",
       "      <td>840</td>\n",
       "      <td>left_only</td>\n",
       "    </tr>\n",
       "    <tr>\n",
       "      <th>58470</th>\n",
       "      <td>50090</td>\n",
       "      <td>1462</td>\n",
       "      <td>left_only</td>\n",
       "    </tr>\n",
       "    <tr>\n",
       "      <th>73897</th>\n",
       "      <td>53014</td>\n",
       "      <td>404</td>\n",
       "      <td>left_only</td>\n",
       "    </tr>\n",
       "    <tr>\n",
       "      <th>107604</th>\n",
       "      <td>62037</td>\n",
       "      <td>793</td>\n",
       "      <td>left_only</td>\n",
       "    </tr>\n",
       "    <tr>\n",
       "      <th>111884</th>\n",
       "      <td>63044</td>\n",
       "      <td>622</td>\n",
       "      <td>left_only</td>\n",
       "    </tr>\n",
       "    <tr>\n",
       "      <th>121319</th>\n",
       "      <td>65084</td>\n",
       "      <td>460</td>\n",
       "      <td>left_only</td>\n",
       "    </tr>\n",
       "  </tbody>\n",
       "</table>\n",
       "</div>"
      ],
      "text/plain": [
       "        label_code_id  prod_code_id     _merge\n",
       "4191              149             7  left_only\n",
       "4534              173           758  left_only\n",
       "4535              173           759  left_only\n",
       "4536              173           760  left_only\n",
       "11629             555          9008  left_only\n",
       "11630             555          9010  left_only\n",
       "11632             555          9012  left_only\n",
       "11634             555          9014  left_only\n",
       "11635             555          9016  left_only\n",
       "11637             555          9026  left_only\n",
       "11638             555          9028  left_only\n",
       "11639             555          9032  left_only\n",
       "11640             555          9034  left_only\n",
       "11807             591           302  left_only\n",
       "22468           13668           280  left_only\n",
       "22469           13668           281  left_only\n",
       "24177           15456           980  left_only\n",
       "48315           44946          1008  left_only\n",
       "48316           44946          1009  left_only\n",
       "48317           44946          1010  left_only\n",
       "56396           49884           652  left_only\n",
       "56397           49884           653  left_only\n",
       "58106           50090           840  left_only\n",
       "58470           50090          1462  left_only\n",
       "73897           53014           404  left_only\n",
       "107604          62037           793  left_only\n",
       "111884          63044           622  left_only\n",
       "121319          65084           460  left_only"
      ]
     },
     "execution_count": 133,
     "metadata": {},
     "output_type": "execute_result"
    }
   ],
   "source": [
    "excluded = pd.read_table('/Users/Amanda/Desktop/PillRecognition/excluded_drugs/Products_excluded.xls', encoding='Windows-1252')\n",
    "excluded_ndcs = excluded[\"PRODUCTNDC\"]\n",
    "excluded_ndcs = excluded_ndcs[excluded_ndcs.str.contains('^(\\d+)-(\\d+)$', regex=True)].str.split(\"-\", expand=True).astype(int).rename(columns={0:\"label_code_id\", 1: \"prod_code_id\"})\n",
    "\n",
    "ex = pd.merge(merged[merged['_merge'] == \"right_only\"].drop_duplicates().get([\"label_code_id\", \"prod_code_id\"]), excluded_ndcs, on=[\"label_code_id\", \"prod_code_id\"], how=\"outer\", indicator=True)\n",
    "ex[ex[\"_merge\"] == \"left_only\"]"
   ]
  }
 ],
 "metadata": {
  "kernelspec": {
   "display_name": "Python 3",
   "language": "python",
   "name": "python3"
  },
  "language_info": {
   "codemirror_mode": {
    "name": "ipython",
    "version": 3
   },
   "file_extension": ".py",
   "mimetype": "text/x-python",
   "name": "python",
   "nbconvert_exporter": "python",
   "pygments_lexer": "ipython3",
   "version": "3.11.12"
  }
 },
 "nbformat": 4,
 "nbformat_minor": 5
}
