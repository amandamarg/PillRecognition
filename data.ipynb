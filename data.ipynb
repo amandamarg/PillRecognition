{
 "cells": [
  {
   "cell_type": "code",
   "execution_count": 1,
   "id": "ba83dcb7",
   "metadata": {},
   "outputs": [
    {
     "name": "stdout",
     "output_type": "stream",
     "text": [
      "(45313, 4)\n"
     ]
    }
   ],
   "source": [
    "import pandas as pd\n",
    "import json\n",
    "\n",
    "all_labels = pd.read_csv(\"./datasets/ePillID_data/all_labels.csv\")\n",
    "with open('./drug/ndc/drug-ndc-0001-of-0001.json', 'r') as file:\n",
    "    data = json.loads(file.read())\n",
    "file.close()\n",
    "df = pd.DataFrame(data['results'])\n",
    "\n",
    "#filter out anything that isn't a tablet or capsule\n",
    "pills = df[df['dosage_form'].str.contains('TABLET') | df['dosage_form'].str.contains('CAPSULE')]\n",
    "\n",
    "#filter out anything that isn't for humans\n",
    "pills = pills[pills['product_type'].str.contains('HUMAN')]\n",
    "\n",
    "#pillbox retired on date Jan. 29 2021 as per https://www.nlm.nih.gov/pubs/techbull/ja20/ja20_pillbox_discontinue.html\n",
    "pillbox_retirement = 20210129\n",
    "x=pills[\"product_ndc\"].str.split(\"-\", expand=True).astype(int).rename(columns={0:\"label_code_id\", 1: \"prod_code_id\"}).join(pills[\"marketing_start_date\"])\n",
    "merged = pd.merge(x, all_labels.get([\"label_code_id\", \"prod_code_id\"]), on=[\"label_code_id\", \"prod_code_id\"], how=\"outer\", indicator=True)\n",
    "ndc_not_in_dataset = merged[merged['_merge'] == \"left_only\"].drop_duplicates()\n",
    "print(ndc_not_in_dataset.shape)\n"
   ]
  },
  {
   "cell_type": "code",
   "execution_count": null,
   "id": "0b5991ca",
   "metadata": {},
   "outputs": [],
   "source": [
    "from download import downloadZip\n",
    "\n",
    "downloadZip(\"https://www.accessdata.fda.gov/cder/ndc_excluded.zip\", \"./excluded_drugs/\")"
   ]
  },
  {
   "cell_type": "code",
   "execution_count": null,
   "id": "317e9f16",
   "metadata": {},
   "outputs": [],
   "source": [
    "excluded = pd.read_table('/Users/Amanda/Desktop/PillRecognition/excluded_drugs/Products_excluded.xls', encoding='Windows-1252')\n",
    "excluded_ndcs = excluded[\"PRODUCTNDC\"]\n",
    "excluded_ndcs = excluded_ndcs[excluded_ndcs.str.contains('^(\\d+)-(\\d+)$', regex=True)].str.split(\"-\", expand=True).astype(int).rename(columns={0:\"label_code_id\", 1: \"prod_code_id\"})\n",
    "\n",
    "ex = pd.merge(merged[merged['_merge'] == \"right_only\"].drop_duplicates().get([\"label_code_id\", \"prod_code_id\"]), excluded_ndcs, on=[\"label_code_id\", \"prod_code_id\"], how=\"outer\", indicator=True)\n",
    "ex[ex[\"_merge\"] == \"left_only\"]"
   ]
  },
  {
   "cell_type": "code",
   "execution_count": null,
   "id": "92990c8c",
   "metadata": {},
   "outputs": [],
   "source": [
    "all_labels.get([\"label_code_id\", \"prod_code_id\"]).drop_duplicates()\n",
    "all_labels[\"label\"].drop_duplicates()"
   ]
  },
  {
   "cell_type": "code",
   "execution_count": null,
   "id": "354efae0",
   "metadata": {},
   "outputs": [],
   "source": [
    "merged[merged['_merge'] == \"left_only\"].drop_duplicates()"
   ]
  },
  {
   "cell_type": "code",
   "execution_count": null,
   "id": "2e3acd5d",
   "metadata": {},
   "outputs": [],
   "source": [
    "merged[merged['_merge'] == \"right_only\"].drop_duplicates()"
   ]
  },
  {
   "cell_type": "code",
   "execution_count": null,
   "id": "9cf057b4",
   "metadata": {},
   "outputs": [],
   "source": [
    "merged[merged['_merge'] == \"both\"].drop_duplicates()"
   ]
  },
  {
   "cell_type": "code",
   "execution_count": 2,
   "id": "d487a357",
   "metadata": {},
   "outputs": [],
   "source": [
    "import pandas as pd\n",
    "import pathlib\n",
    "import re\n",
    "\n",
    "properties = pd.read_json('/Users/Amanda/Desktop/PillRecognition/parsedProperties.json')\n",
    "\n",
    "all_labels = pd.read_csv(\"./datasets/ePillID_data/all_labels.csv\")\n",
    "\n",
    "\n",
    "def checkNDCMatch(ndc1,ndc2):\n",
    "    ndc1Parts = list(map(int, ndc1.split('-')))\n",
    "    ndc2Parts = list(map(int, ndc2.split('-')))\n",
    "    return ndc1Parts == ndc2Parts\n",
    "\n",
    "ndcs = all_labels[\"pilltype_id\"].map(lambda x: x.split('_')[0])\n",
    "\n",
    "\n",
    "def zeroPadFront(str, desiredLength):\n",
    "    while len(str) < desiredLength:\n",
    "        str = '0' + str\n",
    "    return str\n",
    "\n",
    "def removePadding(str, desiredLength):\n",
    "    while len(str) > desiredLength:\n",
    "        if (str[0] == '0'):\n",
    "            str = str[1:]\n",
    "        else:\n",
    "            print('ERROR: desiredLength is too short')\n",
    "            return None\n",
    "    return str\n",
    "    \n",
    "class NDC:\n",
    "    def __init__(self, ndc):\n",
    "        ndc_parts = ndc.split('-')\n",
    "        \n",
    "        self.labeler = str(int(ndc_parts[0]))\n",
    "        self.productCode = str(int(ndc_parts[1]))\n",
    "        if (len(ndc_parts) < 3):\n",
    "            self.packageCode = None\n",
    "        else:\n",
    "            self.packageCode = str(int(ndc_parts[2]))\n",
    "\n",
    "    def getFormat(self, asString=False):\n",
    "        if self.packageCode:\n",
    "            format = (len(self.labeler), len(self.productCode), len(self.packageCode))\n",
    "        else:\n",
    "            format = (len(self.labeler), len(self.productCode))\n",
    "        if asString:\n",
    "            return '-'.join(map(str, format))\n",
    "        else:\n",
    "            return format\n",
    "        \n",
    "    def getNDCSegments(self):\n",
    "        if (self.packageCode):\n",
    "            return [self.labeler, self.productCode, self.packageCode]\n",
    "        else:\n",
    "            return [self.labeler, self.productCode]\n",
    "    \n",
    "    def getNDCString(self, format=None):\n",
    "        ndc_segments = self.getNDCSegments()\n",
    "        if format:\n",
    "            if isinstance(format, str):\n",
    "                format = list(map(int, format.split('-')))\n",
    "            elif isinstance(format, tuple):\n",
    "                format = list(format)\n",
    "            \n",
    "            if (len(format) > len(ndc_segments)):\n",
    "                format.pop()\n",
    "\n",
    "            for idx in range(len(format)):\n",
    "                if len(ndc_segments[idx]) < format[idx]:\n",
    "                    ndc_segments[idx] = zeroPadFront(ndc_segments[idx], format[idx])\n",
    "        return '-'.join(ndc_segments)\n",
    "    \n",
    "    \n",
    "\n",
    "ndcs = [NDC(row['pilltype_id'].split('_')[0]) if row['image_path'].split('/')[0] == 'fcn_mix_weight' else NDC(row['images'].split('_')[0]) for idx, row in all_labels.iterrows()]\n"
   ]
  },
  {
   "cell_type": "code",
   "execution_count": 58,
   "id": "17c5ae78",
   "metadata": {},
   "outputs": [],
   "source": [
    "all_labels['ndc'] = pd.Series([NDC(row['pilltype_id'].split('_')[0]).getNDCString() if row['image_path'].split('/')[0] == 'fcn_mix_weight' else NDC(row['images'].split('_')[0]).getNDCString() for idx, row in all_labels.iterrows()])"
   ]
  },
  {
   "cell_type": "code",
   "execution_count": 3,
   "id": "cfd1d35a",
   "metadata": {},
   "outputs": [],
   "source": [
    "ndc_strings = pd.Series(list(map(lambda x: x.getNDCString(), ndcs)))\n",
    "\n",
    "properties.index = properties.index.map(lambda x: NDC(x).getNDCString())"
   ]
  },
  {
   "cell_type": "code",
   "execution_count": 4,
   "id": "b058f7f8",
   "metadata": {},
   "outputs": [],
   "source": [
    "import requests as r\n",
    "from bs4 import BeautifulSoup\n",
    "import json\n",
    "\n",
    "def makeCall(path, base='https://rxnav.nlm.nih.gov/REST/', query=''):\n",
    "    return json.loads(r.get(base + path + query).content)\n",
    "\n",
    "def getNDCProps(codes):\n",
    "    return codes.map(lambda x: makeCall('ndcproperties.json', query='?id=' + x))\n",
    "\n",
    "ndc_strings = pd.Series(list(map(lambda x: x.getNDCString(), ndcs)))\n",
    "\n",
    "# \n",
    "# props = getNDCProps(ndc_strings)\n",
    "# props.index = ndc_strings\n",
    "# props.to_json('epillid_props.json')"
   ]
  },
  {
   "cell_type": "code",
   "execution_count": 5,
   "id": "92a8e294",
   "metadata": {},
   "outputs": [],
   "source": [
    "import json\n",
    "import pandas as pd\n",
    "\n",
    "with open('epillid_props.json', 'r') as file:\n",
    "    data = json.loads(file.read())\n",
    "file.close()\n",
    "props = pd.Series(data)\n",
    "props = pd.Series([x['ndcPropertyList']['ndcProperty'][0]['propertyConceptList']['propertyConcept'] if len(x) != 0  else None for x in props])\n",
    "makePropTuple = lambda x: (x['propName'], x['propValue'])\n",
    "props_parsed = pd.json_normalize(props.map(lambda x: dict(map(makePropTuple, x)), na_action='ignore'))\n",
    "props_parsed['ndc'] = ndc_strings\n",
    "props_parsed.to_json('epillid_props_parsed.json')\n"
   ]
  },
  {
   "cell_type": "code",
   "execution_count": 6,
   "id": "3db8c9fd",
   "metadata": {},
   "outputs": [
    {
     "data": {
      "application/vnd.microsoft.datawrangler.viewer.v0+json": {
       "columns": [
        {
         "name": "('COLOR', 'COLORTEXT', 'SHAPE', 'SHAPETEXT', 'SIZE', 'IMPRINT_CODE', 'ndc')",
         "rawType": "object",
         "type": "unknown"
        },
        {
         "name": "count",
         "rawType": "int64",
         "type": "integer"
        }
       ],
       "ref": "fc141634-956b-4494-9130-20f65d0bec4a",
       "rows": [
        [
         "('C48332', 'BROWN', 'C48348', 'circular', '12 mm', 'S;712', '62756-712-86')",
         "7"
        ],
        [
         "('C48325', 'WHITE(off-white to slightly greyish)', 'C48348', 'biconvex', '6 mm', '2858', '59762-2858-1')",
         "7"
        ],
        [
         "('C48333', 'BLUE', 'C48336', 'Modified Capsule Shaped, Biconvex', '11 mm', 'F;12', '65862-156-30')",
         "7"
        ],
        [
         "('C48332', 'BROWN(beige)', 'C48348', 'barrel shape', '9 mm', 'W;936', '64679-936-3')",
         "7"
        ],
        [
         "('C48325', 'white', 'C48345', 'elliptical', '15 mm', 'RX829', '63304-829-90')",
         "7"
        ],
        [
         "('C48332', 'BROWN', 'C48348', 'biconvex', '8 mm', 'G;208', '68462-208-1')",
         "7"
        ],
        [
         "('C48326', 'RED', 'C48348', 'ROUND', '10 mm', '200', '50419-488-58')",
         "7"
        ],
        [
         "('C48331', 'ORANGE(Peach)', 'C48336', 'Biconvex', '19 mm', '12;T', '65862-537-50')",
         "7"
        ],
        [
         "('C48328', 'PINK(pink)', 'C48348', 'biconvex', '9 mm', '894', '47335-894-81')",
         "7"
        ],
        [
         "('C48329;C48333', 'GREEN(green),BLUE(blue)', 'C48336', 'CAPSULE', '22 mm', '2010;S429;250;mg', '54092-189-81')",
         "7"
        ],
        [
         "('C48330', 'YELLOW(Light Yellow)', 'C48348', 'Round, Biconvex', '8 mm', '7;5', '68180-501-1')",
         "7"
        ],
        [
         "('C48325', 'white', 'C48345', 'oblong', '16 mm', 'PLIVA;334', '50111-334-1')",
         "7"
        ],
        [
         "('C48329', 'green', 'C48345', 'ovaloid', '12 mm', 'C;412', '63459-412-30')",
         "6"
        ],
        [
         "('C48333', 'blue', 'C48345', 'ovaloid', '13 mm', 'C;416', '63459-416-30')",
         "6"
        ],
        [
         "('C48326', 'red(light red)', 'C48348', 'biconvex', '6 mm', '10;Xa', '50458-580-30')",
         "6"
        ],
        [
         "('C48328', 'PINK', 'C48336', 'Modified Capsule Shaped, Biconvex', '10 mm', '56;C', '65862-155-30')",
         "6"
        ],
        [
         "('C48325', 'white', 'C48345', 'elliptical', '19 mm', 'RX830', '63304-830-90')",
         "6"
        ],
        [
         "('C48329', 'GREEN(light green to green)', 'C48348', 'round shaped', '9 mm', 'TAP;40', '64764-918-30')",
         "6"
        ],
        [
         "('C48327', 'purple(pale violet)', 'C48348', 'flat beveled edge, slightly mottled', '9 mm', 'T;45', '51672-4042-2')",
         "5"
        ],
        [
         "('C48325', 'white(white to off-white)', 'C48345', 'capsule shaped', '21 mm', 'ABRS;123', '62037-999-10')",
         "5"
        ],
        [
         "('C48325', 'white(white to off-white)', 'C48345', 'capsule shaped', '22 mm', 'CR;750', '16252-516-5')",
         "5"
        ],
        [
         "('C48329', 'GREEN(light green)', 'C48345', 'CAPSULE-SHAPED', '8 mm', 'G;4960;25;mg', '59762-4960-1')",
         "4"
        ],
        [
         "('C48325', 'white(white to off-white)', 'C48345', 'capsule-shaped', '13 mm', 'PROVIGIL;100;MG', '63459-101-30')",
         "4"
        ],
        [
         "('C48325', 'white(white to off-white)', 'C48345', 'capsule-shaped', '14 mm', '313', '66582-313-31')",
         "4"
        ],
        [
         "('C48325', 'white(white to off-white)', 'C48345', 'capsule-shaped', '11 mm', '312', '66582-312-31')",
         "3"
        ],
        [
         "('C48325', 'white', 'C48345', 'elliptical', '10 mm', 'RX12', '63304-827-90')",
         "3"
        ],
        [
         "('C48328', 'PINK(light pink)', 'C48336', 'biconvex', '9 mm', 'NAT;123', '51991-354')",
         "2"
        ],
        [
         "('C48328', 'PINK(light pink)', 'C48345', 'oblong', '12 mm', 'LOTENSINHCT;452', '64980-194')",
         "2"
        ],
        [
         "('C48330', 'YELLOW', 'C48336', 'capsule shaped, biconvex', '13 mm', 'L;U;D03', '68180-353')",
         "2"
        ],
        [
         "('C48330', 'YELLOW', 'C48336', 'capsule shaped, biconvex', '13 mm', 'L;U;D03', '63187-212')",
         "2"
        ],
        [
         "('C48330', 'YELLOW', 'C48336', 'Modified Capsule Shaped, Biconvex', '8 mm', 'C;55', '65862-154')",
         "2"
        ],
        [
         "('C48328', 'PINK', 'C48348', 'biconvex', '7 mm', '10;crestor', '43353-290')",
         "2"
        ],
        [
         "('C48329', 'green(light green)', 'C48348', 'circular, beveled edged', '8 mm', 'LU;G03', '55289-692')",
         "2"
        ],
        [
         "('C48329', 'green(light green mosaic appearance)', 'C48347', 'modified', '8 mm', 'AN896;2', '65162-896')",
         "2"
        ],
        [
         "('C48329', 'green(green)', 'C48345', 'OVAL', '12 mm', 'L;80', '63402-308')",
         "2"
        ],
        [
         "('C48329', 'green(Light Green)', 'C48345', 'modified, biconvex', '8 mm', '212;IG', '68084-180')",
         "2"
        ],
        [
         "('C48329', 'green(GREEN)', 'C48345', 'CAPSULE', '10 mm', 'ZC;07', '60687-161')",
         "2"
        ],
        [
         "('C48329', 'green( GREEN )', 'C48345', 'OVAL', '10 mm', 'dp;88', '60793-853')",
         "2"
        ],
        [
         "('C48328', 'PINK', 'C48348', 'biconvex', '9 mm', '20;crestor', '43353-289')",
         "2"
        ],
        [
         "('C48328', 'PINK( Dark Pink )', 'C48348', 'Biconvex, Beveled Edge', '8 mm', 'E;17', '65862-118')",
         "2"
        ],
        [
         "('C48329', 'green', 'C48345', 'Oblong, normal convex', '19 mm', 'T500', '60429-314')",
         "2"
        ],
        [
         "('C48329', 'GREEN(mossy green)', 'C48345', 'capsule shaped', '16 mm', 'A;A;A', '16110-502')",
         "2"
        ],
        [
         "('C48328', 'PINK( Light peach )', 'C48348', 'ROUND', '8 mm', '107', '57664-107')",
         "2"
        ],
        [
         "('C48329', 'GREEN(light green to green)', 'C48351', 'teardrop shaped', '14 mm', 'TAP;80', '55154-5159')",
         "2"
        ],
        [
         "('C48328', 'PINK( Light pink )', 'C48348', 'ROUND', '10 mm', '109', '57664-109')",
         "2"
        ],
        [
         "('C48330', 'YELLOW', 'C48336', 'shaped', '11 mm', 'APO;32;12;5', '60505-3759')",
         "2"
        ],
        [
         "('C48330', 'YELLOW', 'C48345', 'Beveled Edge, Biconvex', '17 mm', 'E;49', '16714-225')",
         "2"
        ],
        [
         "('C48330', 'YELLOW', 'C48345', 'Biconvex', '18 mm', 'E;11', '16714-355')",
         "2"
        ],
        [
         "('C48328', 'PINK', 'C48348', 'biconvex', '11 mm', 'G;200', '68462-110')",
         "2"
        ],
        [
         "('C48328', 'PINK', 'C48348', 'Biconvex', '7 mm', 'I;31', '57237-170')",
         "2"
        ]
       ],
       "shape": {
        "columns": 1,
        "rows": 394
       }
      },
      "text/plain": [
       "COLOR   COLORTEXT                             SHAPE   SHAPETEXT                          SIZE   IMPRINT_CODE  ndc         \n",
       "C48332  BROWN                                 C48348  circular                           12 mm  S;712         62756-712-86    7\n",
       "C48325  WHITE(off-white to slightly greyish)  C48348  biconvex                           6 mm   2858          59762-2858-1    7\n",
       "C48333  BLUE                                  C48336  Modified Capsule Shaped, Biconvex  11 mm  F;12          65862-156-30    7\n",
       "C48332  BROWN(beige)                          C48348  barrel shape                       9 mm   W;936         64679-936-3     7\n",
       "C48325  white                                 C48345  elliptical                         15 mm  RX829         63304-829-90    7\n",
       "                                                                                                                             ..\n",
       "        white(White to off white)             C48348  round, biconvex                    13 mm  121           67877-294       2\n",
       "        white(White to off White)             C48348  Biconvex                           9 mm   20            50436-170       2\n",
       "        white(WHITE)                          C48348  biconvex, circular                 6 mm   N004          63739-486       2\n",
       "                                                      Round                              10 mm  M2A357344     57896-101       2\n",
       "C48334  turquoise( TURQUOISE )                C48345  OVAL                               10 mm  dp;175        60793-859       2\n",
       "Name: count, Length: 394, dtype: int64"
      ]
     },
     "execution_count": 6,
     "metadata": {},
     "output_type": "execute_result"
    }
   ],
   "source": [
    "props_parsed.get(['COLOR', 'COLORTEXT', 'SHAPE', 'SHAPETEXT', 'SIZE', 'IMPRINT_CODE', 'ndc']).value_counts()"
   ]
  },
  {
   "cell_type": "code",
   "execution_count": 87,
   "id": "66b8f198",
   "metadata": {},
   "outputs": [],
   "source": [
    "color_groups = {}\n",
    "for group in props_parsed.groupby('COLOR'):\n",
    "    color_groups[group[0]] = group[1].get(['ndc'])\n",
    "\n",
    "shape_groups = {}\n",
    "for group in props_parsed.groupby('SHAPE'):\n",
    "    shape_groups[group[0]] = group[1].get(['ndc'])\n",
    "\n",
    "size_groups = {}\n",
    "for group in props_parsed.groupby('SIZE'):\n",
    "    size_groups[group[0]] = group[1].get(['ndc'])\n",
    "\n",
    "ndc_image_paths = {}\n",
    "for group in all_labels.groupby('ndc'):\n",
    "    ndc_image_paths[group[0]] = group[1].get(['image_path'])\n"
   ]
  }
 ],
 "metadata": {
  "kernelspec": {
   "display_name": "Python 3",
   "language": "python",
   "name": "python3"
  },
  "language_info": {
   "codemirror_mode": {
    "name": "ipython",
    "version": 3
   },
   "file_extension": ".py",
   "mimetype": "text/x-python",
   "name": "python",
   "nbconvert_exporter": "python",
   "pygments_lexer": "ipython3",
   "version": "3.11.12"
  }
 },
 "nbformat": 4,
 "nbformat_minor": 5
}
